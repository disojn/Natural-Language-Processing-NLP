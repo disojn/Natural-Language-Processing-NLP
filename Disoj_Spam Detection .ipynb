{
 "cells": [
  {
   "cell_type": "markdown",
   "metadata": {},
   "source": [
    "I have a text dataset with 5572 records(documents). Here, I am trying to predict weather the future text will be \n",
    "under ham or spam by using open source python library NLTK and other different modules."
   ]
  },
  {
   "cell_type": "code",
   "execution_count": 68,
   "metadata": {},
   "outputs": [],
   "source": [
    "import time\n",
    "import random\n",
    "from math import *\n",
    "import operator\n",
    "import pandas as pd\n",
    "import numpy as np\n",
    "\n",
    "# import plotting libraries\n",
    "import matplotlib\n",
    "import matplotlib.pyplot as plt\n",
    "from pandas.plotting import scatter_matrix\n",
    "from matplotlib import style\n",
    "%matplotlib inline \n",
    "\n",
    "import seaborn as sns\n",
    "sns.set(style=\"white\", color_codes=True)\n",
    "sns.set(font_scale=1.5)\n",
    "\n",
    "# load make_blobs to simulate data\n",
    "from sklearn.datasets import make_blobs\n",
    "\n",
    "# import the ML algorithm\n",
    "from sklearn.naive_bayes import GaussianNB\n",
    "from sklearn.naive_bayes import MultinomialNB\n",
    "\n",
    "# For text processing\n",
    "import re\n",
    "import nltk\n",
    "from nltk.corpus import stopwords\n",
    "from nltk.tokenize import regexp_tokenize\n",
    "from nltk.tokenize import word_tokenize  \n",
    "from nltk.tokenize import sent_tokenize \n",
    "from nltk.stem import WordNetLemmatizer\n",
    "from nltk.stem import PorterStemmer\n",
    "from sklearn.feature_extraction.text import CountVectorizer\n",
    "from sklearn.feature_extraction.text import TfidfVectorizer\n",
    "from sklearn.linear_model import LogisticRegression\n",
    "\n",
    "# pip install -U spacy\n",
    "import spacy\n",
    "from spacy.lang.en import English\n",
    "\n",
    "from nltk.corpus import wordnet as wn\n",
    "from nltk.stem.wordnet import WordNetLemmatizer\n",
    "\n",
    "# Text - visualization\n",
    "# pip install wordcloud\n",
    "from wordcloud import WordCloud, STOPWORDS \n",
    "\n",
    "# pre-processing\n",
    "from sklearn import preprocessing\n",
    "from sklearn.preprocessing import Normalizer\n",
    "from sklearn.preprocessing.data import QuantileTransformer\n",
    "from sklearn.feature_extraction.text import CountVectorizer\n",
    "\n",
    "# import libraries for model validation\n",
    "from sklearn.model_selection import train_test_split \n",
    "\n",
    "# import libraries for metrics and reporting\n",
    "from sklearn.metrics import confusion_matrix\n",
    "from sklearn.metrics import classification_report\n",
    "from sklearn.metrics import accuracy_score\n",
    "from sklearn.metrics import precision_score\n",
    "from sklearn.metrics import recall_score\n",
    "from sklearn.metrics import f1_score\n",
    "from sklearn import metrics\n",
    "from sklearn.metrics import classification_report\n",
    "from sklearn.metrics import roc_curve, auc"
   ]
  },
  {
   "cell_type": "markdown",
   "metadata": {},
   "source": [
    "Lets start with a simple example:"
   ]
  },
  {
   "cell_type": "code",
   "execution_count": 2,
   "metadata": {},
   "outputs": [],
   "source": [
    "simple_train=['I am fine @@! , & %','please call me', 'I will meet you there .. please take care']"
   ]
  },
  {
   "cell_type": "code",
   "execution_count": 3,
   "metadata": {},
   "outputs": [],
   "source": [
    "# Instantiate the model with defaul parameters\n",
    "vect = CountVectorizer()"
   ]
  },
  {
   "cell_type": "code",
   "execution_count": 4,
   "metadata": {},
   "outputs": [
    {
     "data": {
      "text/plain": [
       "CountVectorizer(analyzer='word', binary=False, decode_error='strict',\n",
       "                dtype=<class 'numpy.int64'>, encoding='utf-8', input='content',\n",
       "                lowercase=True, max_df=1.0, max_features=None, min_df=1,\n",
       "                ngram_range=(1, 1), preprocessor=None, stop_words=None,\n",
       "                strip_accents=None, token_pattern='(?u)\\\\b\\\\w\\\\w+\\\\b',\n",
       "                tokenizer=None, vocabulary=None)"
      ]
     },
     "execution_count": 4,
     "metadata": {},
     "output_type": "execute_result"
    }
   ],
   "source": [
    "# learn the vocabulary of the training data (occurs in-place)\n",
    "# lower case (default)\n",
    "# stop_words = none (default)| 'english'\n",
    "# no duplicates\n",
    "# sorted\n",
    "vect.fit(simple_train)"
   ]
  },
  {
   "cell_type": "code",
   "execution_count": 5,
   "metadata": {},
   "outputs": [
    {
     "data": {
      "text/plain": [
       "['am',\n",
       " 'call',\n",
       " 'care',\n",
       " 'fine',\n",
       " 'me',\n",
       " 'meet',\n",
       " 'please',\n",
       " 'take',\n",
       " 'there',\n",
       " 'will',\n",
       " 'you']"
      ]
     },
     "execution_count": 5,
     "metadata": {},
     "output_type": "execute_result"
    }
   ],
   "source": [
    "# get the fitted vocabulary / All the features\n",
    "vect.get_feature_names()"
   ]
  },
  {
   "cell_type": "code",
   "execution_count": 6,
   "metadata": {},
   "outputs": [],
   "source": [
    "# transform the training data into a 'document-term matrix(sparse matrix)'\n",
    "dtm = vect.transform(simple_train)"
   ]
  },
  {
   "cell_type": "code",
   "execution_count": 7,
   "metadata": {},
   "outputs": [
    {
     "data": {
      "text/plain": [
       "<3x11 sparse matrix of type '<class 'numpy.int64'>'\n",
       "\twith 12 stored elements in Compressed Sparse Row format>"
      ]
     },
     "execution_count": 7,
     "metadata": {},
     "output_type": "execute_result"
    }
   ],
   "source": [
    "dtm"
   ]
  },
  {
   "cell_type": "code",
   "execution_count": 8,
   "metadata": {},
   "outputs": [
    {
     "data": {
      "text/plain": [
       "array([[1, 0, 0, 1, 0, 0, 0, 0, 0, 0, 0],\n",
       "       [0, 1, 0, 0, 1, 0, 1, 0, 0, 0, 0],\n",
       "       [0, 0, 1, 0, 0, 1, 1, 1, 1, 1, 1]], dtype=int64)"
      ]
     },
     "execution_count": 8,
     "metadata": {},
     "output_type": "execute_result"
    }
   ],
   "source": [
    "# convert sparse matrix to a dense matrix\n",
    "dtm.toarray()"
   ]
  },
  {
   "cell_type": "code",
   "execution_count": 9,
   "metadata": {},
   "outputs": [
    {
     "data": {
      "text/html": [
       "<div>\n",
       "<style scoped>\n",
       "    .dataframe tbody tr th:only-of-type {\n",
       "        vertical-align: middle;\n",
       "    }\n",
       "\n",
       "    .dataframe tbody tr th {\n",
       "        vertical-align: top;\n",
       "    }\n",
       "\n",
       "    .dataframe thead th {\n",
       "        text-align: right;\n",
       "    }\n",
       "</style>\n",
       "<table border=\"1\" class=\"dataframe\">\n",
       "  <thead>\n",
       "    <tr style=\"text-align: right;\">\n",
       "      <th></th>\n",
       "      <th>am</th>\n",
       "      <th>call</th>\n",
       "      <th>care</th>\n",
       "      <th>fine</th>\n",
       "      <th>me</th>\n",
       "      <th>meet</th>\n",
       "      <th>please</th>\n",
       "      <th>take</th>\n",
       "      <th>there</th>\n",
       "      <th>will</th>\n",
       "      <th>you</th>\n",
       "    </tr>\n",
       "  </thead>\n",
       "  <tbody>\n",
       "    <tr>\n",
       "      <td>0</td>\n",
       "      <td>1</td>\n",
       "      <td>0</td>\n",
       "      <td>0</td>\n",
       "      <td>1</td>\n",
       "      <td>0</td>\n",
       "      <td>0</td>\n",
       "      <td>0</td>\n",
       "      <td>0</td>\n",
       "      <td>0</td>\n",
       "      <td>0</td>\n",
       "      <td>0</td>\n",
       "    </tr>\n",
       "    <tr>\n",
       "      <td>1</td>\n",
       "      <td>0</td>\n",
       "      <td>1</td>\n",
       "      <td>0</td>\n",
       "      <td>0</td>\n",
       "      <td>1</td>\n",
       "      <td>0</td>\n",
       "      <td>1</td>\n",
       "      <td>0</td>\n",
       "      <td>0</td>\n",
       "      <td>0</td>\n",
       "      <td>0</td>\n",
       "    </tr>\n",
       "    <tr>\n",
       "      <td>2</td>\n",
       "      <td>0</td>\n",
       "      <td>0</td>\n",
       "      <td>1</td>\n",
       "      <td>0</td>\n",
       "      <td>0</td>\n",
       "      <td>1</td>\n",
       "      <td>1</td>\n",
       "      <td>1</td>\n",
       "      <td>1</td>\n",
       "      <td>1</td>\n",
       "      <td>1</td>\n",
       "    </tr>\n",
       "  </tbody>\n",
       "</table>\n",
       "</div>"
      ],
      "text/plain": [
       "   am  call  care  fine  me  meet  please  take  there  will  you\n",
       "0   1     0     0     1   0     0       0     0      0     0    0\n",
       "1   0     1     0     0   1     0       1     0      0     0    0\n",
       "2   0     0     1     0   0     1       1     1      1     1    1"
      ]
     },
     "execution_count": 9,
     "metadata": {},
     "output_type": "execute_result"
    }
   ],
   "source": [
    "# Get vocabulary and document-term frequency together\n",
    "pd.DataFrame(dtm.toarray(), columns=vect.get_feature_names())"
   ]
  },
  {
   "cell_type": "code",
   "execution_count": 10,
   "metadata": {},
   "outputs": [],
   "source": [
    "# Vectorization is the general process of turning a collection of text \n",
    "# documents into numerical feature vectors. This specific strategy \n",
    "# (tokenization, counting and normalization) is called the BAG OF WORDS or\n",
    "# \"BAG OF n-grams\" representation.\n",
    "# Documents are described by word occurances while completely ignoring the \n",
    "# relative position information of the words in the doucments"
   ]
  },
  {
   "cell_type": "code",
   "execution_count": 11,
   "metadata": {},
   "outputs": [
    {
     "data": {
      "text/plain": [
       "scipy.sparse.csr.csr_matrix"
      ]
     },
     "execution_count": 11,
     "metadata": {},
     "output_type": "execute_result"
    }
   ],
   "source": [
    "# check the type of document-term matrix\n",
    "type(dtm)"
   ]
  },
  {
   "cell_type": "code",
   "execution_count": 12,
   "metadata": {},
   "outputs": [
    {
     "name": "stdout",
     "output_type": "stream",
     "text": [
      "  (0, 0)\t1\n",
      "  (0, 3)\t1\n",
      "  (1, 1)\t1\n",
      "  (1, 4)\t1\n",
      "  (1, 6)\t1\n",
      "  (2, 2)\t1\n",
      "  (2, 5)\t1\n",
      "  (2, 6)\t1\n",
      "  (2, 7)\t1\n",
      "  (2, 8)\t1\n",
      "  (2, 9)\t1\n",
      "  (2, 10)\t1\n"
     ]
    }
   ],
   "source": [
    "# see the content of document-term matrix\n",
    "print(dtm)"
   ]
  },
  {
   "cell_type": "code",
   "execution_count": 13,
   "metadata": {},
   "outputs": [],
   "source": [
    "# example text for testing the model\n",
    "test = [' please call me ']"
   ]
  },
  {
   "cell_type": "code",
   "execution_count": 14,
   "metadata": {},
   "outputs": [],
   "source": [
    "# build document-term matrix for the test data\n",
    "test_dtm = vect.transform(test)"
   ]
  },
  {
   "cell_type": "code",
   "execution_count": 15,
   "metadata": {},
   "outputs": [
    {
     "data": {
      "text/plain": [
       "<1x11 sparse matrix of type '<class 'numpy.int64'>'\n",
       "\twith 3 stored elements in Compressed Sparse Row format>"
      ]
     },
     "execution_count": 15,
     "metadata": {},
     "output_type": "execute_result"
    }
   ],
   "source": [
    "test_dtm"
   ]
  },
  {
   "cell_type": "code",
   "execution_count": 16,
   "metadata": {},
   "outputs": [
    {
     "data": {
      "text/plain": [
       "array([[0, 1, 0, 0, 1, 0, 1, 0, 0, 0, 0]], dtype=int64)"
      ]
     },
     "execution_count": 16,
     "metadata": {},
     "output_type": "execute_result"
    }
   ],
   "source": [
    "# notice the token \"don't\" does not appear in the dtm\n",
    "# bcoz the token \"don't\" does not appear in the vocabulary\n",
    "test_dtm.toarray()"
   ]
  },
  {
   "cell_type": "code",
   "execution_count": 17,
   "metadata": {},
   "outputs": [
    {
     "data": {
      "text/html": [
       "<div>\n",
       "<style scoped>\n",
       "    .dataframe tbody tr th:only-of-type {\n",
       "        vertical-align: middle;\n",
       "    }\n",
       "\n",
       "    .dataframe tbody tr th {\n",
       "        vertical-align: top;\n",
       "    }\n",
       "\n",
       "    .dataframe thead th {\n",
       "        text-align: right;\n",
       "    }\n",
       "</style>\n",
       "<table border=\"1\" class=\"dataframe\">\n",
       "  <thead>\n",
       "    <tr style=\"text-align: right;\">\n",
       "      <th></th>\n",
       "      <th>am</th>\n",
       "      <th>call</th>\n",
       "      <th>care</th>\n",
       "      <th>fine</th>\n",
       "      <th>me</th>\n",
       "      <th>meet</th>\n",
       "      <th>please</th>\n",
       "      <th>take</th>\n",
       "      <th>there</th>\n",
       "      <th>will</th>\n",
       "      <th>you</th>\n",
       "    </tr>\n",
       "  </thead>\n",
       "  <tbody>\n",
       "    <tr>\n",
       "      <td>0</td>\n",
       "      <td>0</td>\n",
       "      <td>1</td>\n",
       "      <td>0</td>\n",
       "      <td>0</td>\n",
       "      <td>1</td>\n",
       "      <td>0</td>\n",
       "      <td>1</td>\n",
       "      <td>0</td>\n",
       "      <td>0</td>\n",
       "      <td>0</td>\n",
       "      <td>0</td>\n",
       "    </tr>\n",
       "  </tbody>\n",
       "</table>\n",
       "</div>"
      ],
      "text/plain": [
       "   am  call  care  fine  me  meet  please  take  there  will  you\n",
       "0   0     1     0     0   1     0       1     0      0     0    0"
      ]
     },
     "execution_count": 17,
     "metadata": {},
     "output_type": "execute_result"
    }
   ],
   "source": [
    "# Get vocabulary and document-term frequency together\n",
    "pd.DataFrame(test_dtm.toarray(), columns=vect.get_feature_names())"
   ]
  },
  {
   "cell_type": "code",
   "execution_count": 18,
   "metadata": {},
   "outputs": [],
   "source": [
    "# Summary\n",
    "# vect.fit(train) --- learns the vocabulary of the training data\n",
    "# vect.transform(transform) --- uses fitted vocabulary to build a document-term\n",
    "#                               matrix\n",
    "# vect.transform(test) --- uses fitted vocabulary to build document-term matrix \n",
    "#                          from the testing data (and ignores the tokens not in \n",
    "#                          fitted vocabulary\n",
    "# "
   ]
  },
  {
   "cell_type": "code",
   "execution_count": 19,
   "metadata": {},
   "outputs": [],
   "source": [
    "sms = pd.read_table('C://Users//disoj//Desktop//Datasets//DATASETS//sms.tsv', header=None, names=['label', 'message'])"
   ]
  },
  {
   "cell_type": "code",
   "execution_count": 20,
   "metadata": {},
   "outputs": [
    {
     "data": {
      "text/html": [
       "<div>\n",
       "<style scoped>\n",
       "    .dataframe tbody tr th:only-of-type {\n",
       "        vertical-align: middle;\n",
       "    }\n",
       "\n",
       "    .dataframe tbody tr th {\n",
       "        vertical-align: top;\n",
       "    }\n",
       "\n",
       "    .dataframe thead th {\n",
       "        text-align: right;\n",
       "    }\n",
       "</style>\n",
       "<table border=\"1\" class=\"dataframe\">\n",
       "  <thead>\n",
       "    <tr style=\"text-align: right;\">\n",
       "      <th></th>\n",
       "      <th>label</th>\n",
       "      <th>message</th>\n",
       "    </tr>\n",
       "  </thead>\n",
       "  <tbody>\n",
       "    <tr>\n",
       "      <td>2687</td>\n",
       "      <td>ham</td>\n",
       "      <td>There r many model..sony ericson also der.. &amp;l...</td>\n",
       "    </tr>\n",
       "    <tr>\n",
       "      <td>5218</td>\n",
       "      <td>ham</td>\n",
       "      <td>I accidentally brought em home in the box</td>\n",
       "    </tr>\n",
       "    <tr>\n",
       "      <td>2916</td>\n",
       "      <td>ham</td>\n",
       "      <td>Nothing lor... A bit bored too... Then y dun u...</td>\n",
       "    </tr>\n",
       "    <tr>\n",
       "      <td>1192</td>\n",
       "      <td>ham</td>\n",
       "      <td>Come to my home for one last time i wont do an...</td>\n",
       "    </tr>\n",
       "    <tr>\n",
       "      <td>4708</td>\n",
       "      <td>ham</td>\n",
       "      <td>Wif my family booking tour package.</td>\n",
       "    </tr>\n",
       "    <tr>\n",
       "      <td>359</td>\n",
       "      <td>ham</td>\n",
       "      <td>I'm an actor. When i work, i work in the eveni...</td>\n",
       "    </tr>\n",
       "    <tr>\n",
       "      <td>4640</td>\n",
       "      <td>ham</td>\n",
       "      <td>Of course. I guess god's just got me on hold r...</td>\n",
       "    </tr>\n",
       "    <tr>\n",
       "      <td>2778</td>\n",
       "      <td>ham</td>\n",
       "      <td>Kind of. Took it to garage. Centre part of exh...</td>\n",
       "    </tr>\n",
       "    <tr>\n",
       "      <td>5568</td>\n",
       "      <td>ham</td>\n",
       "      <td>Will ü b going to esplanade fr home?</td>\n",
       "    </tr>\n",
       "    <tr>\n",
       "      <td>731</td>\n",
       "      <td>spam</td>\n",
       "      <td>Email AlertFrom: Jeri StewartSize: 2KBSubject:...</td>\n",
       "    </tr>\n",
       "  </tbody>\n",
       "</table>\n",
       "</div>"
      ],
      "text/plain": [
       "     label                                            message\n",
       "2687   ham  There r many model..sony ericson also der.. &l...\n",
       "5218   ham          I accidentally brought em home in the box\n",
       "2916   ham  Nothing lor... A bit bored too... Then y dun u...\n",
       "1192   ham  Come to my home for one last time i wont do an...\n",
       "4708   ham                Wif my family booking tour package.\n",
       "359    ham  I'm an actor. When i work, i work in the eveni...\n",
       "4640   ham  Of course. I guess god's just got me on hold r...\n",
       "2778   ham  Kind of. Took it to garage. Centre part of exh...\n",
       "5568   ham               Will ü b going to esplanade fr home?\n",
       "731   spam  Email AlertFrom: Jeri StewartSize: 2KBSubject:..."
      ]
     },
     "execution_count": 20,
     "metadata": {},
     "output_type": "execute_result"
    }
   ],
   "source": [
    "sms.sample(10)"
   ]
  },
  {
   "cell_type": "code",
   "execution_count": 21,
   "metadata": {},
   "outputs": [
    {
     "data": {
      "text/plain": [
       "ham     4825\n",
       "spam     747\n",
       "Name: label, dtype: int64"
      ]
     },
     "execution_count": 21,
     "metadata": {},
     "output_type": "execute_result"
    }
   ],
   "source": [
    "# get the class distributionsms.label.value_counts()\n",
    "sms.label.value_counts()"
   ]
  },
  {
   "cell_type": "code",
   "execution_count": 22,
   "metadata": {},
   "outputs": [],
   "source": [
    "# convert label to a numerical variable\n",
    "sms['label_num']=sms.label.map({'ham':0,'spam':1})"
   ]
  },
  {
   "cell_type": "code",
   "execution_count": 23,
   "metadata": {},
   "outputs": [
    {
     "data": {
      "text/html": [
       "<div>\n",
       "<style scoped>\n",
       "    .dataframe tbody tr th:only-of-type {\n",
       "        vertical-align: middle;\n",
       "    }\n",
       "\n",
       "    .dataframe tbody tr th {\n",
       "        vertical-align: top;\n",
       "    }\n",
       "\n",
       "    .dataframe thead th {\n",
       "        text-align: right;\n",
       "    }\n",
       "</style>\n",
       "<table border=\"1\" class=\"dataframe\">\n",
       "  <thead>\n",
       "    <tr style=\"text-align: right;\">\n",
       "      <th></th>\n",
       "      <th>label</th>\n",
       "      <th>message</th>\n",
       "      <th>label_num</th>\n",
       "    </tr>\n",
       "  </thead>\n",
       "  <tbody>\n",
       "    <tr>\n",
       "      <td>0</td>\n",
       "      <td>ham</td>\n",
       "      <td>Go until jurong point, crazy.. Available only ...</td>\n",
       "      <td>0</td>\n",
       "    </tr>\n",
       "    <tr>\n",
       "      <td>1</td>\n",
       "      <td>ham</td>\n",
       "      <td>Ok lar... Joking wif u oni...</td>\n",
       "      <td>0</td>\n",
       "    </tr>\n",
       "    <tr>\n",
       "      <td>2</td>\n",
       "      <td>spam</td>\n",
       "      <td>Free entry in 2 a wkly comp to win FA Cup fina...</td>\n",
       "      <td>1</td>\n",
       "    </tr>\n",
       "    <tr>\n",
       "      <td>3</td>\n",
       "      <td>ham</td>\n",
       "      <td>U dun say so early hor... U c already then say...</td>\n",
       "      <td>0</td>\n",
       "    </tr>\n",
       "    <tr>\n",
       "      <td>4</td>\n",
       "      <td>ham</td>\n",
       "      <td>Nah I don't think he goes to usf, he lives aro...</td>\n",
       "      <td>0</td>\n",
       "    </tr>\n",
       "    <tr>\n",
       "      <td>5</td>\n",
       "      <td>spam</td>\n",
       "      <td>FreeMsg Hey there darling it's been 3 week's n...</td>\n",
       "      <td>1</td>\n",
       "    </tr>\n",
       "    <tr>\n",
       "      <td>6</td>\n",
       "      <td>ham</td>\n",
       "      <td>Even my brother is not like to speak with me. ...</td>\n",
       "      <td>0</td>\n",
       "    </tr>\n",
       "    <tr>\n",
       "      <td>7</td>\n",
       "      <td>ham</td>\n",
       "      <td>As per your request 'Melle Melle (Oru Minnamin...</td>\n",
       "      <td>0</td>\n",
       "    </tr>\n",
       "    <tr>\n",
       "      <td>8</td>\n",
       "      <td>spam</td>\n",
       "      <td>WINNER!! As a valued network customer you have...</td>\n",
       "      <td>1</td>\n",
       "    </tr>\n",
       "    <tr>\n",
       "      <td>9</td>\n",
       "      <td>spam</td>\n",
       "      <td>Had your mobile 11 months or more? U R entitle...</td>\n",
       "      <td>1</td>\n",
       "    </tr>\n",
       "  </tbody>\n",
       "</table>\n",
       "</div>"
      ],
      "text/plain": [
       "  label                                            message  label_num\n",
       "0   ham  Go until jurong point, crazy.. Available only ...          0\n",
       "1   ham                      Ok lar... Joking wif u oni...          0\n",
       "2  spam  Free entry in 2 a wkly comp to win FA Cup fina...          1\n",
       "3   ham  U dun say so early hor... U c already then say...          0\n",
       "4   ham  Nah I don't think he goes to usf, he lives aro...          0\n",
       "5  spam  FreeMsg Hey there darling it's been 3 week's n...          1\n",
       "6   ham  Even my brother is not like to speak with me. ...          0\n",
       "7   ham  As per your request 'Melle Melle (Oru Minnamin...          0\n",
       "8  spam  WINNER!! As a valued network customer you have...          1\n",
       "9  spam  Had your mobile 11 months or more? U R entitle...          1"
      ]
     },
     "execution_count": 23,
     "metadata": {},
     "output_type": "execute_result"
    }
   ],
   "source": [
    "sms.head(10)"
   ]
  },
  {
   "cell_type": "code",
   "execution_count": 24,
   "metadata": {},
   "outputs": [],
   "source": [
    "# Lets save the ham and spam message separately:\n",
    "X_ham=sms[sms.label_num==0].message\n",
    "X_spam=sms[sms.label_num==1].message"
   ]
  },
  {
   "cell_type": "code",
   "execution_count": 25,
   "metadata": {},
   "outputs": [
    {
     "data": {
      "text/plain": [
       "0    Go until jurong point, crazy.. Available only ...\n",
       "1                        Ok lar... Joking wif u oni...\n",
       "3    U dun say so early hor... U c already then say...\n",
       "4    Nah I don't think he goes to usf, he lives aro...\n",
       "6    Even my brother is not like to speak with me. ...\n",
       "Name: message, dtype: object"
      ]
     },
     "execution_count": 25,
     "metadata": {},
     "output_type": "execute_result"
    }
   ],
   "source": [
    "X_ham.head()"
   ]
  },
  {
   "cell_type": "code",
   "execution_count": 26,
   "metadata": {},
   "outputs": [
    {
     "data": {
      "text/plain": [
       "2     Free entry in 2 a wkly comp to win FA Cup fina...\n",
       "5     FreeMsg Hey there darling it's been 3 week's n...\n",
       "8     WINNER!! As a valued network customer you have...\n",
       "9     Had your mobile 11 months or more? U R entitle...\n",
       "11    SIX chances to win CASH! From 100 to 20,000 po...\n",
       "Name: message, dtype: object"
      ]
     },
     "execution_count": 26,
     "metadata": {},
     "output_type": "execute_result"
    }
   ],
   "source": [
    "X_spam.head()"
   ]
  },
  {
   "cell_type": "code",
   "execution_count": 27,
   "metadata": {},
   "outputs": [
    {
     "name": "stdout",
     "output_type": "stream",
     "text": [
      "(5572,)\n",
      "(5572,)\n"
     ]
    }
   ],
   "source": [
    "# define X and y for use with CountVectorizer\n",
    "# it is important you send 1 dimensional object to CountVectorizer, which\n",
    "# it will use to convert to 2-dimensionsal objects\n",
    "X = sms.message\n",
    "y = sms.label_num\n",
    "print(X.shape)\n",
    "print(y.shape)"
   ]
  },
  {
   "cell_type": "code",
   "execution_count": 28,
   "metadata": {},
   "outputs": [
    {
     "data": {
      "text/plain": [
       "0    Go until jurong point, crazy.. Available only ...\n",
       "1                        Ok lar... Joking wif u oni...\n",
       "2    Free entry in 2 a wkly comp to win FA Cup fina...\n",
       "3    U dun say so early hor... U c already then say...\n",
       "4    Nah I don't think he goes to usf, he lives aro...\n",
       "Name: message, dtype: object"
      ]
     },
     "execution_count": 28,
     "metadata": {},
     "output_type": "execute_result"
    }
   ],
   "source": [
    "X.head()"
   ]
  },
  {
   "cell_type": "code",
   "execution_count": 29,
   "metadata": {},
   "outputs": [
    {
     "data": {
      "text/plain": [
       "0    0\n",
       "1    0\n",
       "2    1\n",
       "3    0\n",
       "4    0\n",
       "Name: label_num, dtype: int64"
      ]
     },
     "execution_count": 29,
     "metadata": {},
     "output_type": "execute_result"
    }
   ],
   "source": [
    "y.head()"
   ]
  },
  {
   "cell_type": "code",
   "execution_count": 30,
   "metadata": {},
   "outputs": [],
   "source": [
    "# split X and y into training and testing sets\n",
    "X_train, X_test, y_train, y_test = train_test_split(X, y, test_size=0.25, random_state=1) "
   ]
  },
  {
   "cell_type": "code",
   "execution_count": 31,
   "metadata": {},
   "outputs": [
    {
     "name": "stdout",
     "output_type": "stream",
     "text": [
      "(4179,)\n",
      "(1393,)\n",
      "(4179,)\n",
      "(1393,)\n"
     ]
    }
   ],
   "source": [
    "print(X_train.shape)\n",
    "print(X_test.shape)\n",
    "print(y_train.shape)\n",
    "print(y_test.shape)"
   ]
  },
  {
   "cell_type": "code",
   "execution_count": 32,
   "metadata": {},
   "outputs": [
    {
     "data": {
      "text/plain": [
       "710     4mths half price Orange line rental & latest c...\n",
       "3740                           Did you stitch his trouser\n",
       "2711    Hope you enjoyed your new content. text stop t...\n",
       "3155    Not heard from U4 a while. Call 4 rude chat pr...\n",
       "3748    Ü neva tell me how i noe... I'm not at home in...\n",
       "Name: message, dtype: object"
      ]
     },
     "execution_count": 32,
     "metadata": {},
     "output_type": "execute_result"
    }
   ],
   "source": [
    "X_train[:5]"
   ]
  },
  {
   "cell_type": "code",
   "execution_count": 33,
   "metadata": {},
   "outputs": [],
   "source": [
    "# vectorizing the dataset\n",
    "\n",
    "# instantiate the vectorizer\n",
    "vect = CountVectorizer()"
   ]
  },
  {
   "cell_type": "code",
   "execution_count": 34,
   "metadata": {},
   "outputs": [
    {
     "name": "stdout",
     "output_type": "stream",
     "text": [
      "Wall time: 0 ns\n"
     ]
    }
   ],
   "source": [
    "# learn training data vocabulary, then use it to create the fitted vocabulary\n",
    "# and create the document-term matrix to explore all the terms and to see if a specific term appear in a specific document.\n",
    "# 2-step process\n",
    "%time\n",
    "vect.fit(X_train)                     # create the fitted vocabulary, BoW\n",
    "\n",
    "X_train_dtm = vect.transform(X_train) # create the document-term matrix, vectorization"
   ]
  },
  {
   "cell_type": "code",
   "execution_count": 35,
   "metadata": {},
   "outputs": [
    {
     "name": "stdout",
     "output_type": "stream",
     "text": [
      "Wall time: 0 ns\n"
     ]
    }
   ],
   "source": [
    "# Same can be achieved with 1 step also\n",
    "# FASTER\n",
    "%time\n",
    "X_train_dtm = vect.fit_transform(X_train)"
   ]
  },
  {
   "cell_type": "code",
   "execution_count": 36,
   "metadata": {},
   "outputs": [],
   "source": [
    " #print(vect.get_feature_names())"
   ]
  },
  {
   "cell_type": "code",
   "execution_count": 37,
   "metadata": {},
   "outputs": [
    {
     "data": {
      "text/plain": [
       "<4179x7456 sparse matrix of type '<class 'numpy.int64'>'\n",
       "\twith 55209 stored elements in Compressed Sparse Row format>"
      ]
     },
     "execution_count": 37,
     "metadata": {},
     "output_type": "execute_result"
    }
   ],
   "source": [
    "X_train_dtm"
   ]
  },
  {
   "cell_type": "code",
   "execution_count": 38,
   "metadata": {},
   "outputs": [
    {
     "name": "stdout",
     "output_type": "stream",
     "text": [
      "  (0, 509)\t1\n",
      "  (0, 3181)\t1\n",
      "  (0, 5193)\t1\n",
      "  (0, 4781)\t1\n",
      "  (0, 3971)\t1\n",
      "  (0, 5479)\t1\n",
      "  (0, 3880)\t1\n",
      "  (0, 1572)\t1\n",
      "  (0, 4987)\t1\n",
      "  (0, 2864)\t2\n",
      "  (0, 3170)\t1\n",
      "  (0, 7424)\t1\n",
      "  (0, 4983)\t1\n",
      "  (0, 264)\t1\n",
      "  (0, 1552)\t1\n",
      "  (0, 4375)\t1\n",
      "  (0, 4743)\t1\n",
      "  (0, 50)\t1\n",
      "  (0, 6656)\t1\n",
      "  (0, 6892)\t1\n",
      "  (0, 4662)\t1\n",
      "  (0, 4779)\t1\n",
      "  (0, 2022)\t1\n",
      "  (1, 2222)\t1\n",
      "  (1, 7420)\t1\n",
      "  :\t:\n",
      "  (4177, 4255)\t1\n",
      "  (4177, 4446)\t1\n",
      "  (4177, 4778)\t1\n",
      "  (4177, 2744)\t1\n",
      "  (4177, 254)\t1\n",
      "  (4177, 5490)\t1\n",
      "  (4177, 2556)\t1\n",
      "  (4177, 4508)\t1\n",
      "  (4177, 6034)\t1\n",
      "  (4177, 6662)\t1\n",
      "  (4177, 307)\t1\n",
      "  (4177, 837)\t1\n",
      "  (4177, 3700)\t1\n",
      "  (4177, 5796)\t1\n",
      "  (4177, 358)\t1\n",
      "  (4177, 4934)\t1\n",
      "  (4177, 2453)\t1\n",
      "  (4177, 2097)\t1\n",
      "  (4177, 5403)\t1\n",
      "  (4177, 2786)\t1\n",
      "  (4177, 6577)\t1\n",
      "  (4178, 1691)\t1\n",
      "  (4178, 4238)\t1\n",
      "  (4178, 7257)\t1\n",
      "  (4178, 5999)\t1\n"
     ]
    }
   ],
   "source": [
    "# this will print the sparse matrix, only the 1s\n",
    "print(X_train_dtm)"
   ]
  },
  {
   "cell_type": "code",
   "execution_count": 39,
   "metadata": {},
   "outputs": [
    {
     "data": {
      "text/plain": [
       "array([[0, 0, 0, ..., 0, 0, 0],\n",
       "       [0, 0, 0, ..., 0, 0, 0],\n",
       "       [0, 0, 0, ..., 0, 0, 0],\n",
       "       ...,\n",
       "       [0, 0, 0, ..., 0, 0, 0],\n",
       "       [0, 0, 0, ..., 0, 0, 0],\n",
       "       [0, 0, 0, ..., 0, 0, 0]], dtype=int64)"
      ]
     },
     "execution_count": 39,
     "metadata": {},
     "output_type": "execute_result"
    }
   ],
   "source": [
    "# this will print the dense matrix, both 1s and 0s\n",
    "X_train_dtm.toarray()"
   ]
  },
  {
   "cell_type": "code",
   "execution_count": 40,
   "metadata": {},
   "outputs": [
    {
     "data": {
      "text/plain": [
       "(4179, 7456)"
      ]
     },
     "execution_count": 40,
     "metadata": {},
     "output_type": "execute_result"
    }
   ],
   "source": [
    "# Number of rows = number of training samples,\n",
    "# number of columns = features\n",
    "X_train_dtm.shape"
   ]
  },
  {
   "cell_type": "code",
   "execution_count": 41,
   "metadata": {},
   "outputs": [
    {
     "data": {
      "text/plain": [
       "<1393x7456 sparse matrix of type '<class 'numpy.int64'>'\n",
       "\twith 17604 stored elements in Compressed Sparse Row format>"
      ]
     },
     "execution_count": 41,
     "metadata": {},
     "output_type": "execute_result"
    }
   ],
   "source": [
    "# transform testing data (using fitted vocabulary) into a document-term maxtri\n",
    "# with test data, we do not do fit\n",
    "# Matrix will be Number of testing samples x No of features in Vect (training)\n",
    "X_test_dtm = vect.transform(X_test)\n",
    "X_test_dtm"
   ]
  },
  {
   "cell_type": "code",
   "execution_count": 42,
   "metadata": {},
   "outputs": [],
   "source": [
    "# Build Model\n",
    "# Multinomial Naive Bayes classifier is suitable for classification with \n",
    "# DISCRETE features (word counts for text classification)\n",
    "# The multinomial distribution normally requires integer feature counts.\n",
    "# However, in practice, fractional counts such as tf-idf may also work\n",
    "nb = MultinomialNB()"
   ]
  },
  {
   "cell_type": "code",
   "execution_count": 43,
   "metadata": {},
   "outputs": [
    {
     "name": "stdout",
     "output_type": "stream",
     "text": [
      "Wall time: 316 ms\n"
     ]
    },
    {
     "data": {
      "text/plain": [
       "MultinomialNB(alpha=1.0, class_prior=None, fit_prior=True)"
      ]
     },
     "execution_count": 43,
     "metadata": {},
     "output_type": "execute_result"
    }
   ],
   "source": [
    "# train the model using X_train_dtm\n",
    "# time it with an Ipython \"magic command\"\n",
    "%time nb.fit(X_train_dtm, y_train)"
   ]
  },
  {
   "cell_type": "code",
   "execution_count": 44,
   "metadata": {},
   "outputs": [],
   "source": [
    "# make class predictions for X_test_dtm\n",
    "y_pred_class = nb.predict(X_test_dtm)"
   ]
  },
  {
   "cell_type": "code",
   "execution_count": 45,
   "metadata": {},
   "outputs": [
    {
     "data": {
      "text/plain": [
       "(1393,)"
      ]
     },
     "execution_count": 45,
     "metadata": {},
     "output_type": "execute_result"
    }
   ],
   "source": [
    "y_pred_class.shape"
   ]
  },
  {
   "cell_type": "code",
   "execution_count": 46,
   "metadata": {},
   "outputs": [
    {
     "data": {
      "text/plain": [
       "array([0, 0, 0, ..., 0, 1, 0], dtype=int64)"
      ]
     },
     "execution_count": 46,
     "metadata": {},
     "output_type": "execute_result"
    }
   ],
   "source": [
    "y_pred_class"
   ]
  },
  {
   "cell_type": "code",
   "execution_count": 47,
   "metadata": {},
   "outputs": [
    {
     "data": {
      "text/plain": [
       "0.9885139985642498"
      ]
     },
     "execution_count": 47,
     "metadata": {},
     "output_type": "execute_result"
    }
   ],
   "source": [
    "# Calculate accuracy of class predictions\n",
    "metrics.accuracy_score(y_test, y_pred_class)"
   ]
  },
  {
   "cell_type": "code",
   "execution_count": 48,
   "metadata": {},
   "outputs": [
    {
     "data": {
      "text/plain": [
       "array([[1203,    5],\n",
       "       [  11,  174]], dtype=int64)"
      ]
     },
     "execution_count": 48,
     "metadata": {},
     "output_type": "execute_result"
    }
   ],
   "source": [
    "# print the confusion matrix\n",
    "metrics.confusion_matrix(y_test, y_pred_class)"
   ]
  },
  {
   "cell_type": "code",
   "execution_count": 49,
   "metadata": {},
   "outputs": [],
   "source": [
    "# Label 1 - POSITIVE (Spam)\n",
    "# Label 0 - NEGATIVE (Ham)\n",
    "# [[TN,  FP ],\n",
    "#  [FN , TP]]\n",
    "# FP - Falsely 'predicted' POSITIVE\n",
    "# FN - Falsely 'predicted' NEGATIVE"
   ]
  },
  {
   "cell_type": "code",
   "execution_count": 50,
   "metadata": {},
   "outputs": [
    {
     "data": {
      "text/plain": [
       "574               Waiting for your call.\n",
       "3375             Also andros ice etc etc\n",
       "45      No calls..messages..missed calls\n",
       "3415             No pic. Please re-send.\n",
       "1988    No calls..messages..missed calls\n",
       "Name: message, dtype: object"
      ]
     },
     "execution_count": 50,
     "metadata": {},
     "output_type": "execute_result"
    }
   ],
   "source": [
    "# FALSE POSITIVE\n",
    "X_test[(y_test==0) & (y_pred_class ==1)]\n",
    "\n",
    "# Same as\n",
    "# X_test[y_pred_class > y_test==0]"
   ]
  },
  {
   "cell_type": "code",
   "execution_count": 51,
   "metadata": {},
   "outputs": [
    {
     "data": {
      "text/plain": [
       "3132    LookAtMe!: Thanks for your purchase of a video...\n",
       "5       FreeMsg Hey there darling it's been 3 week's n...\n",
       "3530    Xmas & New Years Eve tickets are now on sale f...\n",
       "684     Hi I'm sue. I am 20 years old and work as a la...\n",
       "1875    Would you like to see my XXX pics they are so ...\n",
       "1893    CALL 09090900040 & LISTEN TO EXTREME DIRTY LIV...\n",
       "4298    thesmszone.com lets you send free anonymous an...\n",
       "4949    Hi this is Amy, we will be sending you a free ...\n",
       "2821    INTERFLORA - It's not too late to order Inter...\n",
       "2247    Hi ya babe x u 4goten bout me?' scammers getti...\n",
       "4514    Money i have won wining number 946 wot do i do...\n",
       "Name: message, dtype: object"
      ]
     },
     "execution_count": 51,
     "metadata": {},
     "output_type": "execute_result"
    }
   ],
   "source": [
    "# FALSE NEGATIVE\n",
    "X_test[(y_test==1) & (y_pred_class ==0)]\n",
    "\n",
    "# Same as\n",
    "# X_test[y_pred_class < y_test==0]"
   ]
  },
  {
   "cell_type": "code",
   "execution_count": 52,
   "metadata": {},
   "outputs": [
    {
     "data": {
      "text/plain": [
       "array([[9.97122551e-01, 2.87744864e-03],\n",
       "       [9.99981651e-01, 1.83488846e-05],\n",
       "       [9.97926987e-01, 2.07301295e-03],\n",
       "       ...,\n",
       "       [9.99998910e-01, 1.09026171e-06],\n",
       "       [1.86697467e-10, 1.00000000e+00],\n",
       "       [9.99999996e-01, 3.98279868e-09]])"
      ]
     },
     "execution_count": 52,
     "metadata": {},
     "output_type": "execute_result"
    }
   ],
   "source": [
    "# Calculate the predicted proobabilities for X_test\n",
    "nb.predict_proba(X_test_dtm)"
   ]
  },
  {
   "cell_type": "code",
   "execution_count": 53,
   "metadata": {},
   "outputs": [
    {
     "data": {
      "text/plain": [
       "(1393, 2)"
      ]
     },
     "execution_count": 53,
     "metadata": {},
     "output_type": "execute_result"
    }
   ],
   "source": [
    "nb.predict_proba(X_test_dtm).shape"
   ]
  },
  {
   "cell_type": "code",
   "execution_count": 54,
   "metadata": {},
   "outputs": [
    {
     "data": {
      "text/plain": [
       "array([2.87744864e-03, 1.83488846e-05, 2.07301295e-03, ...,\n",
       "       1.09026171e-06, 1.00000000e+00, 3.98279868e-09])"
      ]
     },
     "execution_count": 54,
     "metadata": {},
     "output_type": "execute_result"
    }
   ],
   "source": [
    "# Calculate the predicted probabilities for X-test_dtm (poorly caliberated)\n",
    "# why 1\n",
    "# positive class\n",
    "y_pred_proba = nb.predict_proba(X_test_dtm)[:, 1]\n",
    "y_pred_proba"
   ]
  },
  {
   "cell_type": "code",
   "execution_count": 55,
   "metadata": {},
   "outputs": [
    {
     "name": "stdout",
     "output_type": "stream",
     "text": [
      "(1393,)\n",
      "(1393,)\n"
     ]
    }
   ],
   "source": [
    "print(y_test.shape)\n",
    "print(y_pred_proba.shape)"
   ]
  },
  {
   "cell_type": "code",
   "execution_count": 56,
   "metadata": {},
   "outputs": [
    {
     "data": {
      "text/plain": [
       "0.9866431000536962"
      ]
     },
     "execution_count": 56,
     "metadata": {},
     "output_type": "execute_result"
    }
   ],
   "source": [
    "# Calculate AUC\n",
    "\n",
    "metrics.roc_auc_score(y_test, y_pred_proba)"
   ]
  },
  {
   "cell_type": "code",
   "execution_count": 57,
   "metadata": {},
   "outputs": [
    {
     "data": {
      "text/plain": [
       "<matplotlib.legend.Legend at 0x1836fdb9b48>"
      ]
     },
     "execution_count": 57,
     "metadata": {},
     "output_type": "execute_result"
    },
    {
     "data": {
      "image/png": "[encoded data removed]",
      "text/plain": [
       "<Figure size 432x288 with 1 Axes>"
      ]
     },
     "metadata": {
      "needs_background": "light"
     },
     "output_type": "display_data"
    }
   ],
   "source": [
    "import matplotlib.pyplot as plt\n",
    "y_pred_proba = nb.predict_proba(X_test_dtm)[:,1]\n",
    "\n",
    "# sklearn.metrics.roc_curve(y_true, y_score, pos_label=None, sample_weight=None, drop_intermediate=True)\n",
    "# sklearn.metrics.roc_curve(y_true, y_score, pos_label=None)\n",
    "fpr, tpr, _ = metrics.roc_curve(y_test,  y_pred_proba)\n",
    "\n",
    "auc = metrics.roc_auc_score(y_test, y_pred_proba)\n",
    "\n",
    "plt.plot(fpr,tpr,label=\"sms : spam detection, auc=\"+str(auc))\n",
    "plt.legend(loc=4)"
   ]
  },
  {
   "cell_type": "code",
   "execution_count": 58,
   "metadata": {},
   "outputs": [],
   "source": [
    "words_ham = ' '.join(X_ham)"
   ]
  },
  {
   "cell_type": "code",
   "execution_count": 59,
   "metadata": {},
   "outputs": [
    {
     "data": {
      "text/plain": [
       "str"
      ]
     },
     "execution_count": 59,
     "metadata": {},
     "output_type": "execute_result"
    }
   ],
   "source": [
    "# words_ham\n",
    "type(words_ham)"
   ]
  },
  {
   "cell_type": "code",
   "execution_count": 60,
   "metadata": {},
   "outputs": [],
   "source": [
    "wordcloud = WordCloud(width = 800, \n",
    "                     height = 800, \n",
    "                     background_color ='white', \n",
    "                     #stopwords = stopwords, \n",
    "                     min_font_size = 10).generate(words_ham) "
   ]
  },
  {
   "cell_type": "code",
   "execution_count": 61,
   "metadata": {},
   "outputs": [
    {
     "data": {
      "image/png": "[encoded data removed]",
      "text/plain": [
       "<Figure size 648x864 with 1 Axes>"
      ]
     },
     "metadata": {
      "needs_background": "light"
     },
     "output_type": "display_data"
    }
   ],
   "source": [
    "# plot the WordCloud image                        \n",
    "plt.figure(figsize = (9, 12), facecolor = None) \n",
    "plt.imshow(wordcloud) \n",
    "plt.axis(\"off\") \n",
    "plt.tight_layout(pad = 0)"
   ]
  },
  {
   "cell_type": "code",
   "execution_count": 62,
   "metadata": {},
   "outputs": [],
   "source": [
    "words_spam = ' '.join(X_spam)"
   ]
  },
  {
   "cell_type": "code",
   "execution_count": 63,
   "metadata": {},
   "outputs": [
    {
     "data": {
      "text/plain": [
       "str"
      ]
     },
     "execution_count": 63,
     "metadata": {},
     "output_type": "execute_result"
    }
   ],
   "source": [
    "type(words_spam)"
   ]
  },
  {
   "cell_type": "code",
   "execution_count": 64,
   "metadata": {},
   "outputs": [],
   "source": [
    "wordcloud = WordCloud(width = 800, \n",
    "                     height = 800, \n",
    "                     background_color ='white', \n",
    "                     #stopwords = stopwords, \n",
    "                     min_font_size = 10).generate(words_spam) "
   ]
  },
  {
   "cell_type": "code",
   "execution_count": 65,
   "metadata": {},
   "outputs": [
    {
     "data": {
      "image/png": "[encoded data removed]",
      "text/plain": [
       "<Figure size 648x864 with 1 Axes>"
      ]
     },
     "metadata": {
      "needs_background": "light"
     },
     "output_type": "display_data"
    }
   ],
   "source": [
    "# plot the WordCloud image                        \n",
    "plt.figure(figsize = (9, 12), facecolor = None) \n",
    "plt.imshow(wordcloud) \n",
    "plt.axis(\"off\") \n",
    "plt.tight_layout(pad = 0)"
   ]
  },
  {
   "cell_type": "code",
   "execution_count": 66,
   "metadata": {},
   "outputs": [
    {
     "data": {
      "text/plain": [
       "(array([0.        , 0.        , 0.        , 0.        , 0.        ,\n",
       "        0.        , 0.        , 0.        , 0.        , 0.        ,\n",
       "        0.        , 0.        , 0.        , 0.        , 0.        ,\n",
       "        0.00165563, 0.00248344, 0.00248344, 0.00413907, 0.00413907,\n",
       "        0.01241722, 0.01490066, 0.0455298 , 0.04801325, 0.06374172,\n",
       "        0.06374172, 0.07284768, 0.07284768, 0.07698675, 0.07698675,\n",
       "        0.08360927, 0.08609272, 0.0968543 , 0.09850993, 0.12417219,\n",
       "        0.12417219, 0.16887417, 0.1705298 , 0.18046358, 0.18294702,\n",
       "        0.18874172, 0.18874172, 0.19039735, 0.19039735, 0.22019868,\n",
       "        0.2218543 , 0.22268212, 0.22433775, 0.25413907, 0.25662252,\n",
       "        0.28145695, 0.28311258, 0.31705298, 0.32533113, 0.36175497,\n",
       "        0.36175497, 0.37334437, 0.37334437, 0.3865894 , 0.38824503,\n",
       "        0.44039735, 0.44205298, 0.45612583, 0.45612583, 0.54718543,\n",
       "        0.54718543, 0.54884106, 0.55049669, 0.66804636, 0.66970199,\n",
       "        0.78476821, 0.78642384, 0.87665563, 0.87831126, 0.88245033,\n",
       "        0.88410596, 0.89983444, 0.90149007, 0.90480132, 0.90728477,\n",
       "        0.94619205, 0.94784768, 0.9718543 , 0.97350993, 1.        ]),\n",
       " array([0.        , 0.42702703, 0.44864865, 0.45945946, 0.46486486,\n",
       "        0.47567568, 0.58378378, 0.59459459, 0.62162162, 0.63243243,\n",
       "        0.6972973 , 0.70810811, 0.77297297, 0.78378378, 0.91891892,\n",
       "        0.91891892, 0.91891892, 0.93513514, 0.93513514, 0.94594595,\n",
       "        0.94594595, 0.94594595, 0.94594595, 0.94594595, 0.94594595,\n",
       "        0.95135135, 0.95135135, 0.95675676, 0.95675676, 0.96216216,\n",
       "        0.96216216, 0.96216216, 0.96216216, 0.96216216, 0.96216216,\n",
       "        0.96756757, 0.96756757, 0.96756757, 0.96756757, 0.96756757,\n",
       "        0.96756757, 0.97297297, 0.97297297, 0.97837838, 0.97837838,\n",
       "        0.97837838, 0.97837838, 0.97837838, 0.97837838, 0.97837838,\n",
       "        0.97837838, 0.97837838, 0.97837838, 0.97837838, 0.97837838,\n",
       "        0.98378378, 0.98378378, 0.98918919, 0.98918919, 0.98918919,\n",
       "        0.98918919, 0.98918919, 0.98918919, 0.99459459, 0.99459459,\n",
       "        1.        , 1.        , 1.        , 1.        , 1.        ,\n",
       "        1.        , 1.        , 1.        , 1.        , 1.        ,\n",
       "        1.        , 1.        , 1.        , 1.        , 1.        ,\n",
       "        1.        , 1.        , 1.        , 1.        , 1.        ]),\n",
       " array([2.00000000e+00, 1.00000000e+00, 1.00000000e+00, 1.00000000e+00,\n",
       "        1.00000000e+00, 1.00000000e+00, 1.00000000e+00, 1.00000000e+00,\n",
       "        9.99999999e-01, 9.99999999e-01, 9.99999956e-01, 9.99999953e-01,\n",
       "        9.99998806e-01, 9.99998123e-01, 7.23600514e-01, 6.97142164e-01,\n",
       "        6.48308780e-01, 5.90147040e-01, 5.52916904e-01, 4.06946918e-01,\n",
       "        1.45943938e-01, 1.34481933e-01, 2.55808633e-02, 2.49001351e-02,\n",
       "        1.61935665e-02, 1.50616078e-02, 1.30541204e-02, 1.30462727e-02,\n",
       "        9.09449030e-03, 8.98059641e-03, 7.58611819e-03, 7.34075114e-03,\n",
       "        4.90498246e-03, 4.59704347e-03, 2.61798358e-03, 2.55425120e-03,\n",
       "        9.16992010e-04, 8.77454289e-04, 7.66553435e-04, 7.64945558e-04,\n",
       "        6.83973284e-04, 6.72298501e-04, 6.67123628e-04, 6.56947318e-04,\n",
       "        3.91667266e-04, 3.90018379e-04, 3.89790343e-04, 3.85950057e-04,\n",
       "        2.06702994e-04, 2.03242391e-04, 1.40843208e-04, 1.40701180e-04,\n",
       "        7.76926538e-05, 7.70480835e-05, 4.22677197e-05, 4.19426003e-05,\n",
       "        3.84158042e-05, 3.76057927e-05, 2.76173336e-05, 2.67746798e-05,\n",
       "        1.15584076e-05, 1.13927753e-05, 8.11832458e-06, 7.82380728e-06,\n",
       "        1.15186223e-06, 1.11840965e-06, 1.02876039e-06, 9.68669856e-07,\n",
       "        3.49009073e-08, 3.47858256e-08, 9.94172163e-11, 8.48873090e-11,\n",
       "        3.91910611e-13, 3.85807525e-13, 3.18246759e-13, 3.14006947e-13,\n",
       "        3.65937602e-14, 2.91560697e-14, 2.60872198e-14, 2.09857033e-14,\n",
       "        1.15164141e-16, 8.83696635e-17, 9.70965456e-20, 6.67513217e-20,\n",
       "        1.07883379e-66]))"
      ]
     },
     "execution_count": 66,
     "metadata": {},
     "output_type": "execute_result"
    }
   ],
   "source": [
    "metrics.roc_curve(y_test,  y_pred_proba)"
   ]
  },
  {
   "cell_type": "code",
   "execution_count": 69,
   "metadata": {},
   "outputs": [],
   "source": [
    "# Compare models\n",
    "# Logistic regression, despite its name is a linear model for classification \n",
    "# rather than regression. Also known as \"logit regression\", Maximum-entropy\n",
    "# classification (MaxEnt) or log-linear classifier.\n",
    "# \n",
    "logreg = LogisticRegression()"
   ]
  },
  {
   "cell_type": "code",
   "execution_count": 70,
   "metadata": {},
   "outputs": [
    {
     "name": "stderr",
     "output_type": "stream",
     "text": [
      "C:\\Users\\disoj\\Anaconda3\\lib\\site-packages\\sklearn\\linear_model\\logistic.py:432: FutureWarning: Default solver will be changed to 'lbfgs' in 0.22. Specify a solver to silence this warning.\n",
      "  FutureWarning)\n"
     ]
    },
    {
     "name": "stdout",
     "output_type": "stream",
     "text": [
      "Wall time: 465 ms\n"
     ]
    },
    {
     "data": {
      "text/plain": [
       "LogisticRegression(C=1.0, class_weight=None, dual=False, fit_intercept=True,\n",
       "                   intercept_scaling=1, l1_ratio=None, max_iter=100,\n",
       "                   multi_class='warn', n_jobs=None, penalty='l2',\n",
       "                   random_state=None, solver='warn', tol=0.0001, verbose=0,\n",
       "                   warm_start=False)"
      ]
     },
     "execution_count": 70,
     "metadata": {},
     "output_type": "execute_result"
    }
   ],
   "source": [
    "# train the model\n",
    "%time logreg.fit(X_train_dtm, y_train)\n",
    "\n",
    "# slower than NB"
   ]
  },
  {
   "cell_type": "code",
   "execution_count": 71,
   "metadata": {},
   "outputs": [],
   "source": [
    "# Predict using X_test_dtm\n",
    "y_pred_class = logreg.predict(X_test_dtm)"
   ]
  },
  {
   "cell_type": "code",
   "execution_count": 72,
   "metadata": {},
   "outputs": [
    {
     "data": {
      "text/plain": [
       "0.9877961234745154"
      ]
     },
     "execution_count": 72,
     "metadata": {},
     "output_type": "execute_result"
    }
   ],
   "source": [
    "# Calculate accuracy of class predictions\n",
    "metrics.accuracy_score(y_test, y_pred_class)"
   ]
  },
  {
   "cell_type": "code",
   "execution_count": 73,
   "metadata": {},
   "outputs": [
    {
     "name": "stdout",
     "output_type": "stream",
     "text": [
      "[[0.98730444 0.01269556]\n",
      " [0.99652817 0.00347183]\n",
      " [0.99383483 0.00616517]\n",
      " ...\n",
      " [0.96645093 0.03354907]\n",
      " [0.00274947 0.99725053]\n",
      " [0.99842294 0.00157706]]\n"
     ]
    },
    {
     "data": {
      "text/plain": [
       "array([0.01269556, 0.00347183, 0.00616517, ..., 0.03354907, 0.99725053,\n",
       "       0.00157706])"
      ]
     },
     "execution_count": 73,
     "metadata": {},
     "output_type": "execute_result"
    }
   ],
   "source": [
    "# Calculate the predicted probabilities for X-test_dtm (poorly caliberated)\n",
    "# why 1\n",
    "# positive class\n",
    "# probabilities are well caliberated\n",
    "print(logreg.predict_proba(X_test_dtm))\n",
    "\n",
    "y_pred_proba = logreg.predict_proba(X_test_dtm)[:, 1]\n",
    "y_pred_proba"
   ]
  },
  {
   "cell_type": "code",
   "execution_count": 74,
   "metadata": {},
   "outputs": [
    {
     "data": {
      "text/plain": [
       "0.9936817612314301"
      ]
     },
     "execution_count": 74,
     "metadata": {},
     "output_type": "execute_result"
    }
   ],
   "source": [
    "# Calculate AUC\n",
    "\n",
    "metrics.roc_auc_score(y_test, y_pred_proba)"
   ]
  },
  {
   "cell_type": "code",
   "execution_count": 75,
   "metadata": {},
   "outputs": [
    {
     "data": {
      "image/png": "[encoded data removed]",
      "text/plain": [
       "<Figure size 432x288 with 1 Axes>"
      ]
     },
     "metadata": {},
     "output_type": "display_data"
    }
   ],
   "source": [
    "import matplotlib.pyplot as plt\n",
    "y_pred_proba = logreg.predict_proba(X_test_dtm)[:,1]\n",
    "\n",
    "fpr, tpr, _ = metrics.roc_curve(y_test,  y_pred_proba)\n",
    "\n",
    "auc = metrics.roc_auc_score(y_test, y_pred_proba)\n",
    "\n",
    "\n",
    "plt.plot(fpr,tpr,label=\"data 1, auc=\"+str(auc))\n",
    "plt.legend(loc=4)\n",
    "plt.show()"
   ]
  },
  {
   "cell_type": "code",
   "execution_count": 76,
   "metadata": {},
   "outputs": [
    {
     "data": {
      "text/plain": [
       "array([[1207,    1],\n",
       "       [  16,  169]], dtype=int64)"
      ]
     },
     "execution_count": 76,
     "metadata": {},
     "output_type": "execute_result"
    }
   ],
   "source": [
    "# print the confusion matrix\n",
    "metrics.confusion_matrix(y_test, y_pred_class)"
   ]
  },
  {
   "cell_type": "code",
   "execution_count": 77,
   "metadata": {},
   "outputs": [
    {
     "data": {
      "text/plain": [
       "7456"
      ]
     },
     "execution_count": 77,
     "metadata": {},
     "output_type": "execute_result"
    }
   ],
   "source": [
    "# Examine a model\n",
    "\n",
    "# Get all the tokens/features\n",
    "X_train_tokens = vect.get_feature_names()\n",
    "len(X_train_tokens)"
   ]
  },
  {
   "cell_type": "code",
   "execution_count": 78,
   "metadata": {},
   "outputs": [
    {
     "data": {
      "text/plain": [
       "['00',\n",
       " '000',\n",
       " '008704050406',\n",
       " '0121',\n",
       " '01223585236',\n",
       " '01223585334',\n",
       " '0125698789',\n",
       " '02',\n",
       " '0207',\n",
       " '02072069400']"
      ]
     },
     "execution_count": 78,
     "metadata": {},
     "output_type": "execute_result"
    }
   ],
   "source": [
    "X_train_tokens[0:10]"
   ]
  },
  {
   "cell_type": "code",
   "execution_count": 79,
   "metadata": {},
   "outputs": [
    {
     "data": {
      "text/plain": [
       "['zed',\n",
       " 'zeros',\n",
       " 'zhong',\n",
       " 'zindgi',\n",
       " 'zoe',\n",
       " 'zoom',\n",
       " 'zouk',\n",
       " 'zyada',\n",
       " 'èn',\n",
       " '〨ud']"
      ]
     },
     "execution_count": 79,
     "metadata": {},
     "output_type": "execute_result"
    }
   ],
   "source": [
    "X_train_tokens[-10:]"
   ]
  },
  {
   "cell_type": "code",
   "execution_count": 80,
   "metadata": {},
   "outputs": [
    {
     "data": {
      "text/plain": [
       "array([[ 0.,  0.,  0., ...,  1.,  1.,  1.],\n",
       "       [ 5., 23.,  2., ...,  0.,  0.,  0.]])"
      ]
     },
     "execution_count": 80,
     "metadata": {},
     "output_type": "execute_result"
    }
   ],
   "source": [
    "# Naive Bayes counts the number of time each token appears in each class because of conditional probaility.\n",
    "# trailing _ attribute ... means scikit learn creates this during the training process (fit process).\n",
    "nb.feature_count_"
   ]
  },
  {
   "cell_type": "code",
   "execution_count": 81,
   "metadata": {},
   "outputs": [
    {
     "data": {
      "text/plain": [
       "numpy.ndarray"
      ]
     },
     "execution_count": 81,
     "metadata": {},
     "output_type": "execute_result"
    }
   ],
   "source": [
    "type(nb.feature_count_)"
   ]
  },
  {
   "cell_type": "code",
   "execution_count": 82,
   "metadata": {},
   "outputs": [
    {
     "data": {
      "text/plain": [
       "(2, 7456)"
      ]
     },
     "execution_count": 82,
     "metadata": {},
     "output_type": "execute_result"
    }
   ],
   "source": [
    "nb.feature_count_.shape"
   ]
  },
  {
   "cell_type": "code",
   "execution_count": 83,
   "metadata": {},
   "outputs": [],
   "source": [
    "# capture the ham & spam rows from the array\n",
    "ham_token_count = nb.feature_count_[0, :]\n",
    "spam_token_count = nb.feature_count_[1, :]"
   ]
  },
  {
   "cell_type": "code",
   "execution_count": 84,
   "metadata": {},
   "outputs": [],
   "source": [
    "# create a dataframe\n",
    "tokens = pd.DataFrame({'tokens': X_train_tokens, 'ham': ham_token_count, 'spam': spam_token_count})"
   ]
  },
  {
   "cell_type": "code",
   "execution_count": 85,
   "metadata": {},
   "outputs": [
    {
     "data": {
      "text/html": [
       "<div>\n",
       "<style scoped>\n",
       "    .dataframe tbody tr th:only-of-type {\n",
       "        vertical-align: middle;\n",
       "    }\n",
       "\n",
       "    .dataframe tbody tr th {\n",
       "        vertical-align: top;\n",
       "    }\n",
       "\n",
       "    .dataframe thead th {\n",
       "        text-align: right;\n",
       "    }\n",
       "</style>\n",
       "<table border=\"1\" class=\"dataframe\">\n",
       "  <thead>\n",
       "    <tr style=\"text-align: right;\">\n",
       "      <th></th>\n",
       "      <th>tokens</th>\n",
       "      <th>ham</th>\n",
       "      <th>spam</th>\n",
       "    </tr>\n",
       "  </thead>\n",
       "  <tbody>\n",
       "    <tr>\n",
       "      <td>0</td>\n",
       "      <td>00</td>\n",
       "      <td>0.0</td>\n",
       "      <td>5.0</td>\n",
       "    </tr>\n",
       "    <tr>\n",
       "      <td>1</td>\n",
       "      <td>000</td>\n",
       "      <td>0.0</td>\n",
       "      <td>23.0</td>\n",
       "    </tr>\n",
       "    <tr>\n",
       "      <td>2</td>\n",
       "      <td>008704050406</td>\n",
       "      <td>0.0</td>\n",
       "      <td>2.0</td>\n",
       "    </tr>\n",
       "    <tr>\n",
       "      <td>3</td>\n",
       "      <td>0121</td>\n",
       "      <td>0.0</td>\n",
       "      <td>1.0</td>\n",
       "    </tr>\n",
       "    <tr>\n",
       "      <td>4</td>\n",
       "      <td>01223585236</td>\n",
       "      <td>0.0</td>\n",
       "      <td>1.0</td>\n",
       "    </tr>\n",
       "  </tbody>\n",
       "</table>\n",
       "</div>"
      ],
      "text/plain": [
       "         tokens  ham  spam\n",
       "0            00  0.0   5.0\n",
       "1           000  0.0  23.0\n",
       "2  008704050406  0.0   2.0\n",
       "3          0121  0.0   1.0\n",
       "4   01223585236  0.0   1.0"
      ]
     },
     "execution_count": 85,
     "metadata": {},
     "output_type": "execute_result"
    }
   ],
   "source": [
    "tokens.head()"
   ]
  },
  {
   "cell_type": "code",
   "execution_count": 86,
   "metadata": {},
   "outputs": [
    {
     "data": {
      "text/html": [
       "<div>\n",
       "<style scoped>\n",
       "    .dataframe tbody tr th:only-of-type {\n",
       "        vertical-align: middle;\n",
       "    }\n",
       "\n",
       "    .dataframe tbody tr th {\n",
       "        vertical-align: top;\n",
       "    }\n",
       "\n",
       "    .dataframe thead th {\n",
       "        text-align: right;\n",
       "    }\n",
       "</style>\n",
       "<table border=\"1\" class=\"dataframe\">\n",
       "  <thead>\n",
       "    <tr style=\"text-align: right;\">\n",
       "      <th></th>\n",
       "      <th>tokens</th>\n",
       "      <th>ham</th>\n",
       "      <th>spam</th>\n",
       "    </tr>\n",
       "  </thead>\n",
       "  <tbody>\n",
       "    <tr>\n",
       "      <td>6977</td>\n",
       "      <td>very</td>\n",
       "      <td>64.0</td>\n",
       "      <td>2.0</td>\n",
       "    </tr>\n",
       "    <tr>\n",
       "      <td>4521</td>\n",
       "      <td>nasty</td>\n",
       "      <td>1.0</td>\n",
       "      <td>1.0</td>\n",
       "    </tr>\n",
       "    <tr>\n",
       "      <td>6999</td>\n",
       "      <td>villa</td>\n",
       "      <td>0.0</td>\n",
       "      <td>1.0</td>\n",
       "    </tr>\n",
       "    <tr>\n",
       "      <td>1266</td>\n",
       "      <td>beloved</td>\n",
       "      <td>1.0</td>\n",
       "      <td>0.0</td>\n",
       "    </tr>\n",
       "    <tr>\n",
       "      <td>6522</td>\n",
       "      <td>textoperator</td>\n",
       "      <td>0.0</td>\n",
       "      <td>2.0</td>\n",
       "    </tr>\n",
       "    <tr>\n",
       "      <td>1035</td>\n",
       "      <td>arng</td>\n",
       "      <td>2.0</td>\n",
       "      <td>0.0</td>\n",
       "    </tr>\n",
       "    <tr>\n",
       "      <td>250</td>\n",
       "      <td>1013</td>\n",
       "      <td>0.0</td>\n",
       "      <td>1.0</td>\n",
       "    </tr>\n",
       "    <tr>\n",
       "      <td>5703</td>\n",
       "      <td>scores</td>\n",
       "      <td>1.0</td>\n",
       "      <td>1.0</td>\n",
       "    </tr>\n",
       "    <tr>\n",
       "      <td>4504</td>\n",
       "      <td>nahi</td>\n",
       "      <td>2.0</td>\n",
       "      <td>0.0</td>\n",
       "    </tr>\n",
       "    <tr>\n",
       "      <td>4036</td>\n",
       "      <td>long</td>\n",
       "      <td>35.0</td>\n",
       "      <td>0.0</td>\n",
       "    </tr>\n",
       "  </tbody>\n",
       "</table>\n",
       "</div>"
      ],
      "text/plain": [
       "            tokens   ham  spam\n",
       "6977          very  64.0   2.0\n",
       "4521         nasty   1.0   1.0\n",
       "6999         villa   0.0   1.0\n",
       "1266       beloved   1.0   0.0\n",
       "6522  textoperator   0.0   2.0\n",
       "1035          arng   2.0   0.0\n",
       "250           1013   0.0   1.0\n",
       "5703        scores   1.0   1.0\n",
       "4504          nahi   2.0   0.0\n",
       "4036          long  35.0   0.0"
      ]
     },
     "execution_count": 86,
     "metadata": {},
     "output_type": "execute_result"
    }
   ],
   "source": [
    "# display 10 random tokens\n",
    "tokens.sample(10, random_state=6)"
   ]
  },
  {
   "cell_type": "code",
   "execution_count": 87,
   "metadata": {},
   "outputs": [
    {
     "data": {
      "text/plain": [
       "array([3617.,  562.])"
      ]
     },
     "execution_count": 87,
     "metadata": {},
     "output_type": "execute_result"
    }
   ],
   "source": [
    "# naive bayes counts the number of observations in each class\n",
    "nb.class_count_"
   ]
  },
  {
   "cell_type": "code",
   "execution_count": 88,
   "metadata": {},
   "outputs": [
    {
     "data": {
      "text/html": [
       "<div>\n",
       "<style scoped>\n",
       "    .dataframe tbody tr th:only-of-type {\n",
       "        vertical-align: middle;\n",
       "    }\n",
       "\n",
       "    .dataframe tbody tr th {\n",
       "        vertical-align: top;\n",
       "    }\n",
       "\n",
       "    .dataframe thead th {\n",
       "        text-align: right;\n",
       "    }\n",
       "</style>\n",
       "<table border=\"1\" class=\"dataframe\">\n",
       "  <thead>\n",
       "    <tr style=\"text-align: right;\">\n",
       "      <th></th>\n",
       "      <th>tokens</th>\n",
       "      <th>ham</th>\n",
       "      <th>spam</th>\n",
       "    </tr>\n",
       "  </thead>\n",
       "  <tbody>\n",
       "    <tr>\n",
       "      <td>6977</td>\n",
       "      <td>very</td>\n",
       "      <td>65.0</td>\n",
       "      <td>3.0</td>\n",
       "    </tr>\n",
       "    <tr>\n",
       "      <td>4521</td>\n",
       "      <td>nasty</td>\n",
       "      <td>2.0</td>\n",
       "      <td>2.0</td>\n",
       "    </tr>\n",
       "    <tr>\n",
       "      <td>6999</td>\n",
       "      <td>villa</td>\n",
       "      <td>1.0</td>\n",
       "      <td>2.0</td>\n",
       "    </tr>\n",
       "    <tr>\n",
       "      <td>1266</td>\n",
       "      <td>beloved</td>\n",
       "      <td>2.0</td>\n",
       "      <td>1.0</td>\n",
       "    </tr>\n",
       "    <tr>\n",
       "      <td>6522</td>\n",
       "      <td>textoperator</td>\n",
       "      <td>1.0</td>\n",
       "      <td>3.0</td>\n",
       "    </tr>\n",
       "  </tbody>\n",
       "</table>\n",
       "</div>"
      ],
      "text/plain": [
       "            tokens   ham  spam\n",
       "6977          very  65.0   3.0\n",
       "4521         nasty   2.0   2.0\n",
       "6999         villa   1.0   2.0\n",
       "1266       beloved   2.0   1.0\n",
       "6522  textoperator   1.0   3.0"
      ]
     },
     "execution_count": 88,
     "metadata": {},
     "output_type": "execute_result"
    }
   ],
   "source": [
    "tokens['ham'] = tokens.ham + 1\n",
    "tokens['spam'] = tokens.spam + 1\n",
    "\n",
    "tokens.sample(5, random_state=6)"
   ]
  },
  {
   "cell_type": "code",
   "execution_count": 89,
   "metadata": {},
   "outputs": [
    {
     "data": {
      "text/html": [
       "<div>\n",
       "<style scoped>\n",
       "    .dataframe tbody tr th:only-of-type {\n",
       "        vertical-align: middle;\n",
       "    }\n",
       "\n",
       "    .dataframe tbody tr th {\n",
       "        vertical-align: top;\n",
       "    }\n",
       "\n",
       "    .dataframe thead th {\n",
       "        text-align: right;\n",
       "    }\n",
       "</style>\n",
       "<table border=\"1\" class=\"dataframe\">\n",
       "  <thead>\n",
       "    <tr style=\"text-align: right;\">\n",
       "      <th></th>\n",
       "      <th>tokens</th>\n",
       "      <th>ham</th>\n",
       "      <th>spam</th>\n",
       "    </tr>\n",
       "  </thead>\n",
       "  <tbody>\n",
       "    <tr>\n",
       "      <td>6977</td>\n",
       "      <td>very</td>\n",
       "      <td>0.017971</td>\n",
       "      <td>0.005338</td>\n",
       "    </tr>\n",
       "    <tr>\n",
       "      <td>4521</td>\n",
       "      <td>nasty</td>\n",
       "      <td>0.000553</td>\n",
       "      <td>0.003559</td>\n",
       "    </tr>\n",
       "    <tr>\n",
       "      <td>6999</td>\n",
       "      <td>villa</td>\n",
       "      <td>0.000276</td>\n",
       "      <td>0.003559</td>\n",
       "    </tr>\n",
       "    <tr>\n",
       "      <td>1266</td>\n",
       "      <td>beloved</td>\n",
       "      <td>0.000553</td>\n",
       "      <td>0.001779</td>\n",
       "    </tr>\n",
       "    <tr>\n",
       "      <td>6522</td>\n",
       "      <td>textoperator</td>\n",
       "      <td>0.000276</td>\n",
       "      <td>0.005338</td>\n",
       "    </tr>\n",
       "  </tbody>\n",
       "</table>\n",
       "</div>"
      ],
      "text/plain": [
       "            tokens       ham      spam\n",
       "6977          very  0.017971  0.005338\n",
       "4521         nasty  0.000553  0.003559\n",
       "6999         villa  0.000276  0.003559\n",
       "1266       beloved  0.000553  0.001779\n",
       "6522  textoperator  0.000276  0.005338"
      ]
     },
     "execution_count": 89,
     "metadata": {},
     "output_type": "execute_result"
    }
   ],
   "source": [
    "# convert the ham and spam counts into frequencies\n",
    "tokens['ham'] = tokens.ham/ nb.class_count_[0]\n",
    "tokens['spam'] = tokens.spam/ nb.class_count_[1]\n",
    "tokens.sample(5, random_state=6)"
   ]
  },
  {
   "cell_type": "code",
   "execution_count": 90,
   "metadata": {},
   "outputs": [
    {
     "data": {
      "text/html": [
       "<div>\n",
       "<style scoped>\n",
       "    .dataframe tbody tr th:only-of-type {\n",
       "        vertical-align: middle;\n",
       "    }\n",
       "\n",
       "    .dataframe tbody tr th {\n",
       "        vertical-align: top;\n",
       "    }\n",
       "\n",
       "    .dataframe thead th {\n",
       "        text-align: right;\n",
       "    }\n",
       "</style>\n",
       "<table border=\"1\" class=\"dataframe\">\n",
       "  <thead>\n",
       "    <tr style=\"text-align: right;\">\n",
       "      <th></th>\n",
       "      <th>tokens</th>\n",
       "      <th>ham</th>\n",
       "      <th>spam</th>\n",
       "      <th>spam_ratio</th>\n",
       "    </tr>\n",
       "  </thead>\n",
       "  <tbody>\n",
       "    <tr>\n",
       "      <td>6977</td>\n",
       "      <td>very</td>\n",
       "      <td>0.017971</td>\n",
       "      <td>0.005338</td>\n",
       "      <td>0.297044</td>\n",
       "    </tr>\n",
       "    <tr>\n",
       "      <td>4521</td>\n",
       "      <td>nasty</td>\n",
       "      <td>0.000553</td>\n",
       "      <td>0.003559</td>\n",
       "      <td>6.435943</td>\n",
       "    </tr>\n",
       "    <tr>\n",
       "      <td>6999</td>\n",
       "      <td>villa</td>\n",
       "      <td>0.000276</td>\n",
       "      <td>0.003559</td>\n",
       "      <td>12.871886</td>\n",
       "    </tr>\n",
       "    <tr>\n",
       "      <td>1266</td>\n",
       "      <td>beloved</td>\n",
       "      <td>0.000553</td>\n",
       "      <td>0.001779</td>\n",
       "      <td>3.217972</td>\n",
       "    </tr>\n",
       "    <tr>\n",
       "      <td>6522</td>\n",
       "      <td>textoperator</td>\n",
       "      <td>0.000276</td>\n",
       "      <td>0.005338</td>\n",
       "      <td>19.307829</td>\n",
       "    </tr>\n",
       "  </tbody>\n",
       "</table>\n",
       "</div>"
      ],
      "text/plain": [
       "            tokens       ham      spam  spam_ratio\n",
       "6977          very  0.017971  0.005338    0.297044\n",
       "4521         nasty  0.000553  0.003559    6.435943\n",
       "6999         villa  0.000276  0.003559   12.871886\n",
       "1266       beloved  0.000553  0.001779    3.217972\n",
       "6522  textoperator  0.000276  0.005338   19.307829"
      ]
     },
     "execution_count": 90,
     "metadata": {},
     "output_type": "execute_result"
    }
   ],
   "source": [
    "# calculate the ratio of spam-to-ham for each token\n",
    "tokens['spam_ratio'] = tokens.spam/tokens.ham\n",
    "tokens.sample(5, random_state=6)"
   ]
  },
  {
   "cell_type": "code",
   "execution_count": 91,
   "metadata": {},
   "outputs": [
    {
     "data": {
      "text/html": [
       "<div>\n",
       "<style scoped>\n",
       "    .dataframe tbody tr th:only-of-type {\n",
       "        vertical-align: middle;\n",
       "    }\n",
       "\n",
       "    .dataframe tbody tr th {\n",
       "        vertical-align: top;\n",
       "    }\n",
       "\n",
       "    .dataframe thead th {\n",
       "        text-align: right;\n",
       "    }\n",
       "</style>\n",
       "<table border=\"1\" class=\"dataframe\">\n",
       "  <thead>\n",
       "    <tr style=\"text-align: right;\">\n",
       "      <th></th>\n",
       "      <th>tokens</th>\n",
       "      <th>ham</th>\n",
       "      <th>spam</th>\n",
       "      <th>spam_ratio</th>\n",
       "    </tr>\n",
       "  </thead>\n",
       "  <tbody>\n",
       "    <tr>\n",
       "      <td>1766</td>\n",
       "      <td>claim</td>\n",
       "      <td>0.000276</td>\n",
       "      <td>0.158363</td>\n",
       "      <td>572.798932</td>\n",
       "    </tr>\n",
       "    <tr>\n",
       "      <td>5209</td>\n",
       "      <td>prize</td>\n",
       "      <td>0.000276</td>\n",
       "      <td>0.135231</td>\n",
       "      <td>489.131673</td>\n",
       "    </tr>\n",
       "    <tr>\n",
       "      <td>293</td>\n",
       "      <td>150p</td>\n",
       "      <td>0.000276</td>\n",
       "      <td>0.087189</td>\n",
       "      <td>315.361210</td>\n",
       "    </tr>\n",
       "    <tr>\n",
       "      <td>6680</td>\n",
       "      <td>tone</td>\n",
       "      <td>0.000276</td>\n",
       "      <td>0.085409</td>\n",
       "      <td>308.925267</td>\n",
       "    </tr>\n",
       "    <tr>\n",
       "      <td>3139</td>\n",
       "      <td>guaranteed</td>\n",
       "      <td>0.000276</td>\n",
       "      <td>0.076512</td>\n",
       "      <td>276.745552</td>\n",
       "    </tr>\n",
       "    <tr>\n",
       "      <td>...</td>\n",
       "      <td>...</td>\n",
       "      <td>...</td>\n",
       "      <td>...</td>\n",
       "      <td>...</td>\n",
       "    </tr>\n",
       "    <tr>\n",
       "      <td>2066</td>\n",
       "      <td>da</td>\n",
       "      <td>0.032900</td>\n",
       "      <td>0.001779</td>\n",
       "      <td>0.054084</td>\n",
       "    </tr>\n",
       "    <tr>\n",
       "      <td>5824</td>\n",
       "      <td>she</td>\n",
       "      <td>0.035665</td>\n",
       "      <td>0.001779</td>\n",
       "      <td>0.049891</td>\n",
       "    </tr>\n",
       "    <tr>\n",
       "      <td>3244</td>\n",
       "      <td>he</td>\n",
       "      <td>0.047000</td>\n",
       "      <td>0.001779</td>\n",
       "      <td>0.037858</td>\n",
       "    </tr>\n",
       "    <tr>\n",
       "      <td>4093</td>\n",
       "      <td>lt</td>\n",
       "      <td>0.064142</td>\n",
       "      <td>0.001779</td>\n",
       "      <td>0.027741</td>\n",
       "    </tr>\n",
       "    <tr>\n",
       "      <td>3135</td>\n",
       "      <td>gt</td>\n",
       "      <td>0.064971</td>\n",
       "      <td>0.001779</td>\n",
       "      <td>0.027387</td>\n",
       "    </tr>\n",
       "  </tbody>\n",
       "</table>\n",
       "<p>7456 rows × 4 columns</p>\n",
       "</div>"
      ],
      "text/plain": [
       "          tokens       ham      spam  spam_ratio\n",
       "1766       claim  0.000276  0.158363  572.798932\n",
       "5209       prize  0.000276  0.135231  489.131673\n",
       "293         150p  0.000276  0.087189  315.361210\n",
       "6680        tone  0.000276  0.085409  308.925267\n",
       "3139  guaranteed  0.000276  0.076512  276.745552\n",
       "...          ...       ...       ...         ...\n",
       "2066          da  0.032900  0.001779    0.054084\n",
       "5824         she  0.035665  0.001779    0.049891\n",
       "3244          he  0.047000  0.001779    0.037858\n",
       "4093          lt  0.064142  0.001779    0.027741\n",
       "3135          gt  0.064971  0.001779    0.027387\n",
       "\n",
       "[7456 rows x 4 columns]"
      ]
     },
     "execution_count": 91,
     "metadata": {},
     "output_type": "execute_result"
    }
   ],
   "source": [
    "# examine the dataframe sorted by spam_ratio\n",
    "tokens.sort_values('spam_ratio', ascending=False)"
   ]
  },
  {
   "cell_type": "code",
   "execution_count": 92,
   "metadata": {},
   "outputs": [
    {
     "data": {
      "text/html": [
       "<div>\n",
       "<style scoped>\n",
       "    .dataframe tbody tr th:only-of-type {\n",
       "        vertical-align: middle;\n",
       "    }\n",
       "\n",
       "    .dataframe tbody tr th {\n",
       "        vertical-align: top;\n",
       "    }\n",
       "\n",
       "    .dataframe thead th {\n",
       "        text-align: right;\n",
       "    }\n",
       "</style>\n",
       "<table border=\"1\" class=\"dataframe\">\n",
       "  <thead>\n",
       "    <tr style=\"text-align: right;\">\n",
       "      <th></th>\n",
       "      <th>tokens</th>\n",
       "      <th>ham</th>\n",
       "      <th>spam</th>\n",
       "      <th>spam_ratio</th>\n",
       "    </tr>\n",
       "  </thead>\n",
       "  <tbody>\n",
       "  </tbody>\n",
       "</table>\n",
       "</div>"
      ],
      "text/plain": [
       "Empty DataFrame\n",
       "Columns: [tokens, ham, spam, spam_ratio]\n",
       "Index: []"
      ]
     },
     "execution_count": 92,
     "metadata": {},
     "output_type": "execute_result"
    }
   ],
   "source": [
    "# look up for a specfic token\n",
    "tokens.loc[tokens['tokens'] == 'tariff']"
   ]
  },
  {
   "cell_type": "code",
   "execution_count": 93,
   "metadata": {},
   "outputs": [],
   "source": [
    "# vectorizer tuning\n",
    "import nltk\n",
    "from nltk.corpus import stopwords\n",
    "from string import punctuation\n",
    "\n",
    "# Stemmer\n",
    "from nltk.stem import PorterStemmer\n",
    "porter = PorterStemmer()\n",
    "\n",
    "# lemmatizing\n",
    "from nltk.stem import WordNetLemmatizer\n",
    "wnl = WordNetLemmatizer()"
   ]
  },
  {
   "cell_type": "code",
   "execution_count": 94,
   "metadata": {},
   "outputs": [],
   "source": [
    "# Stopwords from stopwords-json\n",
    "# https://raw.githubusercontent.com/6/stopwords-json/master/dist/en.json\n",
    "\n",
    "stopwords_json = {\"en\":[\"a\",\"a's\",\"able\",\"about\",\"above\",\"according\",\"accordingly\",\"across\",\"actually\",\"after\",\"afterwards\",\"again\",\"against\",\"ain't\",\"all\",\"allow\",\"allows\",\"almost\",\"alone\",\"along\",\"already\",\"also\",\"although\",\"always\",\"am\",\"among\",\"amongst\",\"an\",\"and\",\"another\",\"any\",\"anybody\",\"anyhow\",\"anyone\",\"anything\",\"anyway\",\"anyways\",\"anywhere\",\"apart\",\"appear\",\"appreciate\",\"appropriate\",\"are\",\"aren't\",\"around\",\"as\",\"aside\",\"ask\",\"asking\",\"associated\",\"at\",\"available\",\"away\",\"awfully\",\"b\",\"be\",\"became\",\"because\",\"become\",\"becomes\",\"becoming\",\"been\",\"before\",\"beforehand\",\"behind\",\"being\",\"believe\",\"below\",\"beside\",\"besides\",\"best\",\"better\",\"between\",\"beyond\",\"both\",\"brief\",\"but\",\"by\",\"c\",\"c'mon\",\"c's\",\"came\",\"can\",\"can't\",\"cannot\",\"cant\",\"cause\",\"causes\",\"certain\",\"certainly\",\"changes\",\"clearly\",\"co\",\"com\",\"come\",\"comes\",\"concerning\",\"consequently\",\"consider\",\"considering\",\"contain\",\"containing\",\"contains\",\"corresponding\",\"could\",\"couldn't\",\"course\",\"currently\",\"d\",\"definitely\",\"described\",\"despite\",\"did\",\"didn't\",\"different\",\"do\",\"does\",\"doesn't\",\"doing\",\"don't\",\"done\",\"down\",\"downwards\",\"during\",\"e\",\"each\",\"edu\",\"eg\",\"eight\",\"either\",\"else\",\"elsewhere\",\"enough\",\"entirely\",\"especially\",\"et\",\"etc\",\"even\",\"ever\",\"every\",\"everybody\",\"everyone\",\"everything\",\"everywhere\",\"ex\",\"exactly\",\"example\",\"except\",\"f\",\"far\",\"few\",\"fifth\",\"first\",\"five\",\"followed\",\"following\",\"follows\",\"for\",\"former\",\"formerly\",\"forth\",\"four\",\"from\",\"further\",\"furthermore\",\"g\",\"get\",\"gets\",\"getting\",\"given\",\"gives\",\"go\",\"goes\",\"going\",\"gone\",\"got\",\"gotten\",\"greetings\",\"h\",\"had\",\"hadn't\",\"happens\",\"hardly\",\"has\",\"hasn't\",\"have\",\"haven't\",\"having\",\"he\",\"he's\",\"hello\",\"help\",\"hence\",\"her\",\"here\",\"here's\",\"hereafter\",\"hereby\",\"herein\",\"hereupon\",\"hers\",\"herself\",\"hi\",\"him\",\"himself\",\"his\",\"hither\",\"hopefully\",\"how\",\"howbeit\",\"however\",\"i\",\"i'd\",\"i'll\",\"i'm\",\"i've\",\"ie\",\"if\",\"ignored\",\"immediate\",\"in\",\"inasmuch\",\"inc\",\"indeed\",\"indicate\",\"indicated\",\"indicates\",\"inner\",\"insofar\",\"instead\",\"into\",\"inward\",\"is\",\"isn't\",\"it\",\"it'd\",\"it'll\",\"it's\",\"its\",\"itself\",\"j\",\"just\",\"k\",\"keep\",\"keeps\",\"kept\",\"know\",\"known\",\"knows\",\"l\",\"last\",\"lately\",\"later\",\"latter\",\"latterly\",\"least\",\"less\",\"lest\",\"let\",\"let's\",\"like\",\"liked\",\"likely\",\"little\",\"look\",\"looking\",\"looks\",\"ltd\",\"m\",\"mainly\",\"many\",\"may\",\"maybe\",\"me\",\"mean\",\"meanwhile\",\"merely\",\"might\",\"more\",\"moreover\",\"most\",\"mostly\",\"much\",\"must\",\"my\",\"myself\",\"n\",\"name\",\"namely\",\"nd\",\"near\",\"nearly\",\"necessary\",\"need\",\"needs\",\"neither\",\"never\",\"nevertheless\",\"new\",\"next\",\"nine\",\"no\",\"nobody\",\"non\",\"none\",\"noone\",\"nor\",\"normally\",\"not\",\"nothing\",\"novel\",\"now\",\"nowhere\",\"o\",\"obviously\",\"of\",\"off\",\"often\",\"oh\",\"ok\",\"okay\",\"old\",\"on\",\"once\",\"one\",\"ones\",\"only\",\"onto\",\"or\",\"other\",\"others\",\"otherwise\",\"ought\",\"our\",\"ours\",\"ourselves\",\"out\",\"outside\",\"over\",\"overall\",\"own\",\"p\",\"particular\",\"particularly\",\"per\",\"perhaps\",\"placed\",\"please\",\"plus\",\"possible\",\"presumably\",\"probably\",\"provides\",\"q\",\"que\",\"quite\",\"qv\",\"r\",\"rather\",\"rd\",\"re\",\"really\",\"reasonably\",\"regarding\",\"regardless\",\"regards\",\"relatively\",\"respectively\",\"right\",\"s\",\"said\",\"same\",\"saw\",\"say\",\"saying\",\"says\",\"second\",\"secondly\",\"see\",\"seeing\",\"seem\",\"seemed\",\"seeming\",\"seems\",\"seen\",\"self\",\"selves\",\"sensible\",\"sent\",\"serious\",\"seriously\",\"seven\",\"several\",\"shall\",\"she\",\"should\",\"shouldn't\",\"since\",\"six\",\"so\",\"some\",\"somebody\",\"somehow\",\"someone\",\"something\",\"sometime\",\"sometimes\",\"somewhat\",\"somewhere\",\"soon\",\"sorry\",\"specified\",\"specify\",\"specifying\",\"still\",\"sub\",\"such\",\"sup\",\"sure\",\"t\",\"t's\",\"take\",\"taken\",\"tell\",\"tends\",\"th\",\"than\",\"thank\",\"thanks\",\"thanx\",\"that\",\"that's\",\"thats\",\"the\",\"their\",\"theirs\",\"them\",\"themselves\",\"then\",\"thence\",\"there\",\"there's\",\"thereafter\",\"thereby\",\"therefore\",\"therein\",\"theres\",\"thereupon\",\"these\",\"they\",\"they'd\",\"they'll\",\"they're\",\"they've\",\"think\",\"third\",\"this\",\"thorough\",\"thoroughly\",\"those\",\"though\",\"three\",\"through\",\"throughout\",\"thru\",\"thus\",\"to\",\"together\",\"too\",\"took\",\"toward\",\"towards\",\"tried\",\"tries\",\"truly\",\"try\",\"trying\",\"twice\",\"two\",\"u\",\"un\",\"under\",\"unfortunately\",\"unless\",\"unlikely\",\"until\",\"unto\",\"up\",\"upon\",\"us\",\"use\",\"used\",\"useful\",\"uses\",\"using\",\"usually\",\"uucp\",\"v\",\"value\",\"various\",\"very\",\"via\",\"viz\",\"vs\",\"w\",\"want\",\"wants\",\"was\",\"wasn't\",\"way\",\"we\",\"we'd\",\"we'll\",\"we're\",\"we've\",\"welcome\",\"well\",\"went\",\"were\",\"weren't\",\"what\",\"what's\",\"whatever\",\"when\",\"whence\",\"whenever\",\"where\",\"where's\",\"whereafter\",\"whereas\",\"whereby\",\"wherein\",\"whereupon\",\"wherever\",\"whether\",\"which\",\"while\",\"whither\",\"who\",\"who's\",\"whoever\",\"whole\",\"whom\",\"whose\",\"why\",\"will\",\"willing\",\"wish\",\"with\",\"within\",\"without\",\"won't\",\"wonder\",\"would\",\"wouldn't\",\"x\",\"y\",\"yes\",\"yet\",\"you\",\"you'd\",\"you'll\",\"you're\",\"you've\",\"your\",\"yours\",\"yourself\",\"yourselves\",\"z\",\"zero\"]}"
   ]
  },
  {
   "cell_type": "code",
   "execution_count": 95,
   "metadata": {},
   "outputs": [
    {
     "data": {
      "text/plain": [
       "{'en': ['a',\n",
       "  \"a's\",\n",
       "  'able',\n",
       "  'about',\n",
       "  'above',\n",
       "  'according',\n",
       "  'accordingly',\n",
       "  'across',\n",
       "  'actually',\n",
       "  'after',\n",
       "  'afterwards',\n",
       "  'again',\n",
       "  'against',\n",
       "  \"ain't\",\n",
       "  'all',\n",
       "  'allow',\n",
       "  'allows',\n",
       "  'almost',\n",
       "  'alone',\n",
       "  'along',\n",
       "  'already',\n",
       "  'also',\n",
       "  'although',\n",
       "  'always',\n",
       "  'am',\n",
       "  'among',\n",
       "  'amongst',\n",
       "  'an',\n",
       "  'and',\n",
       "  'another',\n",
       "  'any',\n",
       "  'anybody',\n",
       "  'anyhow',\n",
       "  'anyone',\n",
       "  'anything',\n",
       "  'anyway',\n",
       "  'anyways',\n",
       "  'anywhere',\n",
       "  'apart',\n",
       "  'appear',\n",
       "  'appreciate',\n",
       "  'appropriate',\n",
       "  'are',\n",
       "  \"aren't\",\n",
       "  'around',\n",
       "  'as',\n",
       "  'aside',\n",
       "  'ask',\n",
       "  'asking',\n",
       "  'associated',\n",
       "  'at',\n",
       "  'available',\n",
       "  'away',\n",
       "  'awfully',\n",
       "  'b',\n",
       "  'be',\n",
       "  'became',\n",
       "  'because',\n",
       "  'become',\n",
       "  'becomes',\n",
       "  'becoming',\n",
       "  'been',\n",
       "  'before',\n",
       "  'beforehand',\n",
       "  'behind',\n",
       "  'being',\n",
       "  'believe',\n",
       "  'below',\n",
       "  'beside',\n",
       "  'besides',\n",
       "  'best',\n",
       "  'better',\n",
       "  'between',\n",
       "  'beyond',\n",
       "  'both',\n",
       "  'brief',\n",
       "  'but',\n",
       "  'by',\n",
       "  'c',\n",
       "  \"c'mon\",\n",
       "  \"c's\",\n",
       "  'came',\n",
       "  'can',\n",
       "  \"can't\",\n",
       "  'cannot',\n",
       "  'cant',\n",
       "  'cause',\n",
       "  'causes',\n",
       "  'certain',\n",
       "  'certainly',\n",
       "  'changes',\n",
       "  'clearly',\n",
       "  'co',\n",
       "  'com',\n",
       "  'come',\n",
       "  'comes',\n",
       "  'concerning',\n",
       "  'consequently',\n",
       "  'consider',\n",
       "  'considering',\n",
       "  'contain',\n",
       "  'containing',\n",
       "  'contains',\n",
       "  'corresponding',\n",
       "  'could',\n",
       "  \"couldn't\",\n",
       "  'course',\n",
       "  'currently',\n",
       "  'd',\n",
       "  'definitely',\n",
       "  'described',\n",
       "  'despite',\n",
       "  'did',\n",
       "  \"didn't\",\n",
       "  'different',\n",
       "  'do',\n",
       "  'does',\n",
       "  \"doesn't\",\n",
       "  'doing',\n",
       "  \"don't\",\n",
       "  'done',\n",
       "  'down',\n",
       "  'downwards',\n",
       "  'during',\n",
       "  'e',\n",
       "  'each',\n",
       "  'edu',\n",
       "  'eg',\n",
       "  'eight',\n",
       "  'either',\n",
       "  'else',\n",
       "  'elsewhere',\n",
       "  'enough',\n",
       "  'entirely',\n",
       "  'especially',\n",
       "  'et',\n",
       "  'etc',\n",
       "  'even',\n",
       "  'ever',\n",
       "  'every',\n",
       "  'everybody',\n",
       "  'everyone',\n",
       "  'everything',\n",
       "  'everywhere',\n",
       "  'ex',\n",
       "  'exactly',\n",
       "  'example',\n",
       "  'except',\n",
       "  'f',\n",
       "  'far',\n",
       "  'few',\n",
       "  'fifth',\n",
       "  'first',\n",
       "  'five',\n",
       "  'followed',\n",
       "  'following',\n",
       "  'follows',\n",
       "  'for',\n",
       "  'former',\n",
       "  'formerly',\n",
       "  'forth',\n",
       "  'four',\n",
       "  'from',\n",
       "  'further',\n",
       "  'furthermore',\n",
       "  'g',\n",
       "  'get',\n",
       "  'gets',\n",
       "  'getting',\n",
       "  'given',\n",
       "  'gives',\n",
       "  'go',\n",
       "  'goes',\n",
       "  'going',\n",
       "  'gone',\n",
       "  'got',\n",
       "  'gotten',\n",
       "  'greetings',\n",
       "  'h',\n",
       "  'had',\n",
       "  \"hadn't\",\n",
       "  'happens',\n",
       "  'hardly',\n",
       "  'has',\n",
       "  \"hasn't\",\n",
       "  'have',\n",
       "  \"haven't\",\n",
       "  'having',\n",
       "  'he',\n",
       "  \"he's\",\n",
       "  'hello',\n",
       "  'help',\n",
       "  'hence',\n",
       "  'her',\n",
       "  'here',\n",
       "  \"here's\",\n",
       "  'hereafter',\n",
       "  'hereby',\n",
       "  'herein',\n",
       "  'hereupon',\n",
       "  'hers',\n",
       "  'herself',\n",
       "  'hi',\n",
       "  'him',\n",
       "  'himself',\n",
       "  'his',\n",
       "  'hither',\n",
       "  'hopefully',\n",
       "  'how',\n",
       "  'howbeit',\n",
       "  'however',\n",
       "  'i',\n",
       "  \"i'd\",\n",
       "  \"i'll\",\n",
       "  \"i'm\",\n",
       "  \"i've\",\n",
       "  'ie',\n",
       "  'if',\n",
       "  'ignored',\n",
       "  'immediate',\n",
       "  'in',\n",
       "  'inasmuch',\n",
       "  'inc',\n",
       "  'indeed',\n",
       "  'indicate',\n",
       "  'indicated',\n",
       "  'indicates',\n",
       "  'inner',\n",
       "  'insofar',\n",
       "  'instead',\n",
       "  'into',\n",
       "  'inward',\n",
       "  'is',\n",
       "  \"isn't\",\n",
       "  'it',\n",
       "  \"it'd\",\n",
       "  \"it'll\",\n",
       "  \"it's\",\n",
       "  'its',\n",
       "  'itself',\n",
       "  'j',\n",
       "  'just',\n",
       "  'k',\n",
       "  'keep',\n",
       "  'keeps',\n",
       "  'kept',\n",
       "  'know',\n",
       "  'known',\n",
       "  'knows',\n",
       "  'l',\n",
       "  'last',\n",
       "  'lately',\n",
       "  'later',\n",
       "  'latter',\n",
       "  'latterly',\n",
       "  'least',\n",
       "  'less',\n",
       "  'lest',\n",
       "  'let',\n",
       "  \"let's\",\n",
       "  'like',\n",
       "  'liked',\n",
       "  'likely',\n",
       "  'little',\n",
       "  'look',\n",
       "  'looking',\n",
       "  'looks',\n",
       "  'ltd',\n",
       "  'm',\n",
       "  'mainly',\n",
       "  'many',\n",
       "  'may',\n",
       "  'maybe',\n",
       "  'me',\n",
       "  'mean',\n",
       "  'meanwhile',\n",
       "  'merely',\n",
       "  'might',\n",
       "  'more',\n",
       "  'moreover',\n",
       "  'most',\n",
       "  'mostly',\n",
       "  'much',\n",
       "  'must',\n",
       "  'my',\n",
       "  'myself',\n",
       "  'n',\n",
       "  'name',\n",
       "  'namely',\n",
       "  'nd',\n",
       "  'near',\n",
       "  'nearly',\n",
       "  'necessary',\n",
       "  'need',\n",
       "  'needs',\n",
       "  'neither',\n",
       "  'never',\n",
       "  'nevertheless',\n",
       "  'new',\n",
       "  'next',\n",
       "  'nine',\n",
       "  'no',\n",
       "  'nobody',\n",
       "  'non',\n",
       "  'none',\n",
       "  'noone',\n",
       "  'nor',\n",
       "  'normally',\n",
       "  'not',\n",
       "  'nothing',\n",
       "  'novel',\n",
       "  'now',\n",
       "  'nowhere',\n",
       "  'o',\n",
       "  'obviously',\n",
       "  'of',\n",
       "  'off',\n",
       "  'often',\n",
       "  'oh',\n",
       "  'ok',\n",
       "  'okay',\n",
       "  'old',\n",
       "  'on',\n",
       "  'once',\n",
       "  'one',\n",
       "  'ones',\n",
       "  'only',\n",
       "  'onto',\n",
       "  'or',\n",
       "  'other',\n",
       "  'others',\n",
       "  'otherwise',\n",
       "  'ought',\n",
       "  'our',\n",
       "  'ours',\n",
       "  'ourselves',\n",
       "  'out',\n",
       "  'outside',\n",
       "  'over',\n",
       "  'overall',\n",
       "  'own',\n",
       "  'p',\n",
       "  'particular',\n",
       "  'particularly',\n",
       "  'per',\n",
       "  'perhaps',\n",
       "  'placed',\n",
       "  'please',\n",
       "  'plus',\n",
       "  'possible',\n",
       "  'presumably',\n",
       "  'probably',\n",
       "  'provides',\n",
       "  'q',\n",
       "  'que',\n",
       "  'quite',\n",
       "  'qv',\n",
       "  'r',\n",
       "  'rather',\n",
       "  'rd',\n",
       "  're',\n",
       "  'really',\n",
       "  'reasonably',\n",
       "  'regarding',\n",
       "  'regardless',\n",
       "  'regards',\n",
       "  'relatively',\n",
       "  'respectively',\n",
       "  'right',\n",
       "  's',\n",
       "  'said',\n",
       "  'same',\n",
       "  'saw',\n",
       "  'say',\n",
       "  'saying',\n",
       "  'says',\n",
       "  'second',\n",
       "  'secondly',\n",
       "  'see',\n",
       "  'seeing',\n",
       "  'seem',\n",
       "  'seemed',\n",
       "  'seeming',\n",
       "  'seems',\n",
       "  'seen',\n",
       "  'self',\n",
       "  'selves',\n",
       "  'sensible',\n",
       "  'sent',\n",
       "  'serious',\n",
       "  'seriously',\n",
       "  'seven',\n",
       "  'several',\n",
       "  'shall',\n",
       "  'she',\n",
       "  'should',\n",
       "  \"shouldn't\",\n",
       "  'since',\n",
       "  'six',\n",
       "  'so',\n",
       "  'some',\n",
       "  'somebody',\n",
       "  'somehow',\n",
       "  'someone',\n",
       "  'something',\n",
       "  'sometime',\n",
       "  'sometimes',\n",
       "  'somewhat',\n",
       "  'somewhere',\n",
       "  'soon',\n",
       "  'sorry',\n",
       "  'specified',\n",
       "  'specify',\n",
       "  'specifying',\n",
       "  'still',\n",
       "  'sub',\n",
       "  'such',\n",
       "  'sup',\n",
       "  'sure',\n",
       "  't',\n",
       "  \"t's\",\n",
       "  'take',\n",
       "  'taken',\n",
       "  'tell',\n",
       "  'tends',\n",
       "  'th',\n",
       "  'than',\n",
       "  'thank',\n",
       "  'thanks',\n",
       "  'thanx',\n",
       "  'that',\n",
       "  \"that's\",\n",
       "  'thats',\n",
       "  'the',\n",
       "  'their',\n",
       "  'theirs',\n",
       "  'them',\n",
       "  'themselves',\n",
       "  'then',\n",
       "  'thence',\n",
       "  'there',\n",
       "  \"there's\",\n",
       "  'thereafter',\n",
       "  'thereby',\n",
       "  'therefore',\n",
       "  'therein',\n",
       "  'theres',\n",
       "  'thereupon',\n",
       "  'these',\n",
       "  'they',\n",
       "  \"they'd\",\n",
       "  \"they'll\",\n",
       "  \"they're\",\n",
       "  \"they've\",\n",
       "  'think',\n",
       "  'third',\n",
       "  'this',\n",
       "  'thorough',\n",
       "  'thoroughly',\n",
       "  'those',\n",
       "  'though',\n",
       "  'three',\n",
       "  'through',\n",
       "  'throughout',\n",
       "  'thru',\n",
       "  'thus',\n",
       "  'to',\n",
       "  'together',\n",
       "  'too',\n",
       "  'took',\n",
       "  'toward',\n",
       "  'towards',\n",
       "  'tried',\n",
       "  'tries',\n",
       "  'truly',\n",
       "  'try',\n",
       "  'trying',\n",
       "  'twice',\n",
       "  'two',\n",
       "  'u',\n",
       "  'un',\n",
       "  'under',\n",
       "  'unfortunately',\n",
       "  'unless',\n",
       "  'unlikely',\n",
       "  'until',\n",
       "  'unto',\n",
       "  'up',\n",
       "  'upon',\n",
       "  'us',\n",
       "  'use',\n",
       "  'used',\n",
       "  'useful',\n",
       "  'uses',\n",
       "  'using',\n",
       "  'usually',\n",
       "  'uucp',\n",
       "  'v',\n",
       "  'value',\n",
       "  'various',\n",
       "  'very',\n",
       "  'via',\n",
       "  'viz',\n",
       "  'vs',\n",
       "  'w',\n",
       "  'want',\n",
       "  'wants',\n",
       "  'was',\n",
       "  \"wasn't\",\n",
       "  'way',\n",
       "  'we',\n",
       "  \"we'd\",\n",
       "  \"we'll\",\n",
       "  \"we're\",\n",
       "  \"we've\",\n",
       "  'welcome',\n",
       "  'well',\n",
       "  'went',\n",
       "  'were',\n",
       "  \"weren't\",\n",
       "  'what',\n",
       "  \"what's\",\n",
       "  'whatever',\n",
       "  'when',\n",
       "  'whence',\n",
       "  'whenever',\n",
       "  'where',\n",
       "  \"where's\",\n",
       "  'whereafter',\n",
       "  'whereas',\n",
       "  'whereby',\n",
       "  'wherein',\n",
       "  'whereupon',\n",
       "  'wherever',\n",
       "  'whether',\n",
       "  'which',\n",
       "  'while',\n",
       "  'whither',\n",
       "  'who',\n",
       "  \"who's\",\n",
       "  'whoever',\n",
       "  'whole',\n",
       "  'whom',\n",
       "  'whose',\n",
       "  'why',\n",
       "  'will',\n",
       "  'willing',\n",
       "  'wish',\n",
       "  'with',\n",
       "  'within',\n",
       "  'without',\n",
       "  \"won't\",\n",
       "  'wonder',\n",
       "  'would',\n",
       "  \"wouldn't\",\n",
       "  'x',\n",
       "  'y',\n",
       "  'yes',\n",
       "  'yet',\n",
       "  'you',\n",
       "  \"you'd\",\n",
       "  \"you'll\",\n",
       "  \"you're\",\n",
       "  \"you've\",\n",
       "  'your',\n",
       "  'yours',\n",
       "  'yourself',\n",
       "  'yourselves',\n",
       "  'z',\n",
       "  'zero']}"
      ]
     },
     "execution_count": 95,
     "metadata": {},
     "output_type": "execute_result"
    }
   ],
   "source": [
    "stopwords_json\n"
   ]
  },
  {
   "cell_type": "code",
   "execution_count": 96,
   "metadata": {},
   "outputs": [],
   "source": [
    "stopwords_json_en = set(stopwords_json['en'])\n",
    "stopwords_nltk_en = set(stopwords.words('english'))\n",
    "stopwords_punct = set(punctuation)"
   ]
  },
  {
   "cell_type": "code",
   "execution_count": 97,
   "metadata": {},
   "outputs": [],
   "source": [
    "# Combine the stopwords. Its a lot longer so I'm not printing it out...\n",
    "stoplist_combined = set.union(stopwords_json_en, stopwords_nltk_en, stopwords_punct)"
   ]
  },
  {
   "cell_type": "code",
   "execution_count": 101,
   "metadata": {},
   "outputs": [],
   "source": [
    "vect = CountVectorizer(stop_words=stoplist_combined, \n",
    "                       token_pattern='(?u)\\\\b[a-zA-Z]{3,}\\\\b')"
   ]
  },
  {
   "cell_type": "code",
   "execution_count": 102,
   "metadata": {},
   "outputs": [
    {
     "data": {
      "text/plain": [
       "CountVectorizer(analyzer='word', binary=False, decode_error='strict',\n",
       "                dtype=<class 'numpy.int64'>, encoding='utf-8', input='content',\n",
       "                lowercase=True, max_df=1.0, max_features=None, min_df=1,\n",
       "                ngram_range=(1, 1), preprocessor=None,\n",
       "                stop_words={'!', '\"', '#', '$', '%', '&', \"'\", '(', ')', '*',\n",
       "                            '+', ',', '-', '.', '/', ':', ';', '<', '=', '>',\n",
       "                            '?', '@', '[', '\\\\', ']', '^', '_', '`', 'a', \"a's\", ...},\n",
       "                strip_accents=None, token_pattern='(?u)\\\\b[a-zA-Z]{3,}\\\\b',\n",
       "                tokenizer=None, vocabulary=None)"
      ]
     },
     "execution_count": 102,
     "metadata": {},
     "output_type": "execute_result"
    }
   ],
   "source": [
    "vect"
   ]
  },
  {
   "cell_type": "code",
   "execution_count": 103,
   "metadata": {},
   "outputs": [
    {
     "name": "stdout",
     "output_type": "stream",
     "text": [
      "Wall time: 0 ns\n"
     ]
    },
    {
     "name": "stderr",
     "output_type": "stream",
     "text": [
      "C:\\Users\\disoj\\Anaconda3\\lib\\site-packages\\sklearn\\feature_extraction\\text.py:300: UserWarning: Your stop_words may be inconsistent with your preprocessing. Tokenizing the stop words generated tokens ['mon'] not in stop_words.\n",
      "  'stop_words.' % sorted(inconsistent))\n"
     ]
    }
   ],
   "source": [
    "# learn training data vocabulary, then use it to create the fitted vocabulary\n",
    "# and create the document-term matrix\n",
    "# 2-step process\n",
    "%time\n",
    "vect.fit(X_train)                     # create the fitted vocabulary\n",
    "X_train_dtm = vect.transform(X_train) # create the document-term matrix"
   ]
  },
  {
   "cell_type": "code",
   "execution_count": 104,
   "metadata": {},
   "outputs": [
    {
     "data": {
      "text/plain": [
       "(4179, 5943)"
      ]
     },
     "execution_count": 104,
     "metadata": {},
     "output_type": "execute_result"
    }
   ],
   "source": [
    "# Number of rows = number of training samples,\n",
    "# number of columns = features\n",
    "X_train_dtm.shape"
   ]
  },
  {
   "cell_type": "code",
   "execution_count": 105,
   "metadata": {},
   "outputs": [
    {
     "data": {
      "text/plain": [
       "<1393x5943 sparse matrix of type '<class 'numpy.int64'>'\n",
       "\twith 7238 stored elements in Compressed Sparse Row format>"
      ]
     },
     "execution_count": 105,
     "metadata": {},
     "output_type": "execute_result"
    }
   ],
   "source": [
    "# transform testing data (using fitted vocabulary) into a document-term maxtri\n",
    "# with test data, we do not do fit\n",
    "# Matrix will be Number of testing samples x No of features in Vect (training)\n",
    "X_test_dtm = vect.transform(X_test)\n",
    "X_test_dtm"
   ]
  },
  {
   "cell_type": "code",
   "execution_count": 106,
   "metadata": {},
   "outputs": [],
   "source": [
    "# Build Model\n",
    "# Multinomial Naive Bayes classifier is suitable for classification with \n",
    "# DISCRETE features (word counts for text classification)\n",
    "# The multinomial distribution normally requires integer feature counts.\n",
    "# However, in practice, fractional counts such as tf-idf may also work\n",
    "nb = MultinomialNB()"
   ]
  },
  {
   "cell_type": "code",
   "execution_count": 107,
   "metadata": {},
   "outputs": [
    {
     "name": "stdout",
     "output_type": "stream",
     "text": [
      "Wall time: 11 ms\n"
     ]
    },
    {
     "data": {
      "text/plain": [
       "MultinomialNB(alpha=1.0, class_prior=None, fit_prior=True)"
      ]
     },
     "execution_count": 107,
     "metadata": {},
     "output_type": "execute_result"
    }
   ],
   "source": [
    "# train the model using X_train_dtm\n",
    "# time it with an Ipython \"magic command\"\n",
    "%time nb.fit(X_train_dtm, y_train)"
   ]
  },
  {
   "cell_type": "code",
   "execution_count": 108,
   "metadata": {},
   "outputs": [],
   "source": [
    "# make class predictions for X_test_dtm\n",
    "y_pred_class = nb.predict(X_test_dtm)"
   ]
  },
  {
   "cell_type": "code",
   "execution_count": 109,
   "metadata": {},
   "outputs": [
    {
     "data": {
      "text/plain": [
       "0.9806173725771715"
      ]
     },
     "execution_count": 109,
     "metadata": {},
     "output_type": "execute_result"
    }
   ],
   "source": [
    "# Calculate accuracy of class predictions\n",
    "metrics.accuracy_score(y_test, y_pred_class)"
   ]
  },
  {
   "cell_type": "code",
   "execution_count": 110,
   "metadata": {},
   "outputs": [
    {
     "data": {
      "text/plain": [
       "array([[1192,   16],\n",
       "       [  11,  174]], dtype=int64)"
      ]
     },
     "execution_count": 110,
     "metadata": {},
     "output_type": "execute_result"
    }
   ],
   "source": [
    "# print the confusion matrix\n",
    "metrics.confusion_matrix(y_test, y_pred_class)"
   ]
  }
 ],
 "metadata": {
  "kernelspec": {
   "display_name": "Python 3",
   "language": "python",
   "name": "python3"
  },
  "language_info": {
   "codemirror_mode": {
    "name": "ipython",
    "version": 3
   },
   "file_extension": ".py",
   "mimetype": "text/x-python",
   "name": "python",
   "nbconvert_exporter": "python",
   "pygments_lexer": "ipython3",
   "version": "3.7.4"
  }
 },
 "nbformat": 4,
 "nbformat_minor": 2
}
